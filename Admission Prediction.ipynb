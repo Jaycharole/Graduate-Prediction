{
 "cells": [
  {
   "cell_type": "markdown",
   "id": "de557980",
   "metadata": {},
   "source": [
    "### Import Libraries"
   ]
  },
  {
   "cell_type": "code",
   "execution_count": 140,
   "id": "6bb504ea",
   "metadata": {},
   "outputs": [],
   "source": [
    "import pandas as pd\n",
    "import numpy as np\n",
    "import matplotlib.pyplot as plt\n",
    "import seaborn as sns\n",
    "import plotly.express as px\n",
    "import joblib\n",
    "\n",
    "from sklearn.model_selection import train_test_split\n",
    "import warnings\n",
    "warnings.filterwarnings(action='ignore')"
   ]
  },
  {
   "cell_type": "markdown",
   "id": "4454c8b6",
   "metadata": {},
   "source": [
    "### Load the dataset"
   ]
  },
  {
   "cell_type": "code",
   "execution_count": 141,
   "id": "604b86d3",
   "metadata": {},
   "outputs": [],
   "source": [
    "ielts_df = pd.read_csv('ielts_final.csv')\n",
    "toefl_df = pd.read_csv('toefl_final.csv')"
   ]
  },
  {
   "cell_type": "code",
   "execution_count": 142,
   "id": "65f4c1e6",
   "metadata": {},
   "outputs": [
    {
     "name": "stdout",
     "output_type": "stream",
     "text": [
      "IELTS:  (829, 16)\n",
      "TOEFL:  (1229, 16)\n"
     ]
    }
   ],
   "source": [
    "# Shape of the dataset\n",
    "\n",
    "print('IELTS: ', ielts_df.shape)\n",
    "print('TOEFL: ', toefl_df.shape)"
   ]
  },
  {
   "cell_type": "markdown",
   "id": "ac477c51",
   "metadata": {},
   "source": [
    "Let's look at the columns present in both dataframes."
   ]
  },
  {
   "cell_type": "code",
   "execution_count": 143,
   "id": "d13d348a",
   "metadata": {},
   "outputs": [
    {
     "name": "stdout",
     "output_type": "stream",
     "text": [
      "IELTS:\n",
      " Index(['Name', 'cgpa', 'course', 'WorkExp', 'WorkExp(inYear)', 'research',\n",
      "       'QUANT', 'VERBAL', 'AWA', 'GRE', 'SPEAKING', 'Listening', 'Writing',\n",
      "       'Reading', 'IELTS', 'admit_reject'],\n",
      "      dtype='object')\n",
      "TOEFL:\n",
      " Index(['Name', 'cgpa', 'course', 'WorkExp(Months)', 'WorkExp(Years)',\n",
      "       'research', 'QUANT', 'VERBAL', 'AWA', 'GRE', 'SPEAKING', 'Listening',\n",
      "       'Writing', 'Reading', 'TOEFL_IELTS', 'admit_reject'],\n",
      "      dtype='object')\n"
     ]
    }
   ],
   "source": [
    "print('IELTS:\\n', ielts_df.columns)\n",
    "print('TOEFL:\\n', toefl_df.columns)"
   ]
  },
  {
   "cell_type": "markdown",
   "id": "2741da81",
   "metadata": {},
   "source": [
    "**`Observations:`**<br><br>All the columns are same except one, the toefl df contains `toefl score` and the ielts df contains `ielts score`."
   ]
  },
  {
   "cell_type": "markdown",
   "id": "58eb6c93",
   "metadata": {},
   "source": [
    "Let's check if any null values are present ?"
   ]
  },
  {
   "cell_type": "code",
   "execution_count": 144,
   "id": "d8f59ca6",
   "metadata": {},
   "outputs": [
    {
     "name": "stdout",
     "output_type": "stream",
     "text": [
      "IELTS:  False\n",
      "TOEFL:  False\n"
     ]
    }
   ],
   "source": [
    "print('IELTS: ', ielts_df.isna().values.any())\n",
    "print('TOEFL: ', toefl_df.isna().values.any())"
   ]
  },
  {
   "cell_type": "markdown",
   "id": "d838200c",
   "metadata": {},
   "source": [
    "**`Observations:`**<br><br> We don't have any null values, so we can proceed for further analysis."
   ]
  },
  {
   "cell_type": "code",
   "execution_count": 145,
   "id": "c550f5e0",
   "metadata": {},
   "outputs": [
    {
     "name": "stdout",
     "output_type": "stream",
     "text": [
      "<class 'pandas.core.frame.DataFrame'>\n",
      "RangeIndex: 829 entries, 0 to 828\n",
      "Data columns (total 16 columns):\n",
      " #   Column           Non-Null Count  Dtype  \n",
      "---  ------           --------------  -----  \n",
      " 0   Name             829 non-null    object \n",
      " 1   cgpa             829 non-null    float64\n",
      " 2   course           829 non-null    object \n",
      " 3   WorkExp          829 non-null    int64  \n",
      " 4   WorkExp(inYear)  829 non-null    float64\n",
      " 5   research         829 non-null    int64  \n",
      " 6   QUANT            829 non-null    int64  \n",
      " 7   VERBAL           829 non-null    int64  \n",
      " 8   AWA              829 non-null    float64\n",
      " 9   GRE              829 non-null    int64  \n",
      " 10  SPEAKING         829 non-null    float64\n",
      " 11  Listening        829 non-null    float64\n",
      " 12  Writing          829 non-null    float64\n",
      " 13  Reading          829 non-null    float64\n",
      " 14  IELTS            829 non-null    float64\n",
      " 15  admit_reject     829 non-null    object \n",
      "dtypes: float64(8), int64(5), object(3)\n",
      "memory usage: 103.8+ KB\n"
     ]
    }
   ],
   "source": [
    "ielts_df.info()"
   ]
  },
  {
   "cell_type": "code",
   "execution_count": 146,
   "id": "881e31c3",
   "metadata": {},
   "outputs": [
    {
     "name": "stdout",
     "output_type": "stream",
     "text": [
      "<class 'pandas.core.frame.DataFrame'>\n",
      "RangeIndex: 1229 entries, 0 to 1228\n",
      "Data columns (total 16 columns):\n",
      " #   Column           Non-Null Count  Dtype  \n",
      "---  ------           --------------  -----  \n",
      " 0   Name             1229 non-null   object \n",
      " 1   cgpa             1229 non-null   float64\n",
      " 2   course           1229 non-null   object \n",
      " 3   WorkExp(Months)  1229 non-null   int64  \n",
      " 4   WorkExp(Years)   1229 non-null   float64\n",
      " 5   research         1229 non-null   int64  \n",
      " 6   QUANT            1229 non-null   int64  \n",
      " 7   VERBAL           1229 non-null   int64  \n",
      " 8   AWA              1229 non-null   float64\n",
      " 9   GRE              1229 non-null   int64  \n",
      " 10  SPEAKING         1229 non-null   int64  \n",
      " 11  Listening        1229 non-null   int64  \n",
      " 12  Writing          1229 non-null   int64  \n",
      " 13  Reading          1229 non-null   int64  \n",
      " 14  TOEFL_IELTS      1229 non-null   int64  \n",
      " 15  admit_reject     1229 non-null   object \n",
      "dtypes: float64(3), int64(10), object(3)\n",
      "memory usage: 153.8+ KB\n"
     ]
    }
   ],
   "source": [
    "toefl_df.info()"
   ]
  },
  {
   "cell_type": "code",
   "execution_count": 147,
   "id": "1ba5540d",
   "metadata": {},
   "outputs": [],
   "source": [
    "columns = ['Name', 'CGPA', 'Course', 'WorkExp(Months)', 'WorkExp(Years)', 'Research', 'Quant', 'Verbal', 'AWA', 'GRE', 'Speaking',\n",
    "           'Listening', 'Writing', 'Reading', 'Score', 'Admit/Reject']"
   ]
  },
  {
   "cell_type": "code",
   "execution_count": 148,
   "id": "a3e066f9",
   "metadata": {},
   "outputs": [],
   "source": [
    "res1 = {ielts_df.columns[i]: columns[i] for i in range(len(columns))}\n",
    "res2 = {toefl_df.columns[i]: columns[i] for i in range(len(columns))}"
   ]
  },
  {
   "cell_type": "code",
   "execution_count": 149,
   "id": "ac18ab1e",
   "metadata": {},
   "outputs": [],
   "source": [
    "ielts_df.rename(columns=res1, inplace=True)\n",
    "toefl_df.rename(columns=res2, inplace=True)"
   ]
  },
  {
   "cell_type": "markdown",
   "id": "c6b517dc",
   "metadata": {},
   "source": [
    "### Combining both dataframes\n",
    "\n",
    "Rather than working on two dataframes we can combine both and create two new columns one will indicate which exam the student has given like `IELTS` or `TOEFL` and the other column will store the `Marks` in those respective exams."
   ]
  },
  {
   "cell_type": "code",
   "execution_count": 150,
   "id": "aa105be4",
   "metadata": {},
   "outputs": [],
   "source": [
    "final_df = pd.concat([ielts_df, toefl_df], axis=0)"
   ]
  },
  {
   "cell_type": "markdown",
   "id": "861a93dc",
   "metadata": {},
   "source": [
    "Min-Max score for `IELTS`"
   ]
  },
  {
   "cell_type": "code",
   "execution_count": 151,
   "id": "d8e00222",
   "metadata": {},
   "outputs": [
    {
     "data": {
      "text/plain": [
       "(1.0, 8.5)"
      ]
     },
     "execution_count": 151,
     "metadata": {},
     "output_type": "execute_result"
    }
   ],
   "source": [
    "np.min(ielts_df['Score']), np.max(ielts_df['Score'])"
   ]
  },
  {
   "cell_type": "markdown",
   "id": "25172fc9",
   "metadata": {},
   "source": [
    "Min-Max score for `TOEFL`"
   ]
  },
  {
   "cell_type": "code",
   "execution_count": 152,
   "id": "5211e158",
   "metadata": {},
   "outputs": [
    {
     "data": {
      "text/plain": [
       "(56, 120)"
      ]
     },
     "execution_count": 152,
     "metadata": {},
     "output_type": "execute_result"
    }
   ],
   "source": [
    "np.min(toefl_df['Score']), np.max(toefl_df['Score'])"
   ]
  },
  {
   "cell_type": "markdown",
   "id": "1c6b252f",
   "metadata": {},
   "source": [
    "As we can see the range for `IELTS lies between 1.0 - 8.5` and `TOEFL lies between 56 - 120`, using this logic we can create a category in a new column named as `Exam` with values IELTS or TOEFL depending on the `Score`."
   ]
  },
  {
   "cell_type": "code",
   "execution_count": 153,
   "id": "9208f01f",
   "metadata": {},
   "outputs": [],
   "source": [
    "def create_exam(col):\n",
    "    if col < 9:\n",
    "        return 'IELTS'\n",
    "    else:\n",
    "        return 'TOEFL'"
   ]
  },
  {
   "cell_type": "code",
   "execution_count": 154,
   "id": "e4e5283f",
   "metadata": {},
   "outputs": [
    {
     "data": {
      "text/html": [
       "<div>\n",
       "<style scoped>\n",
       "    .dataframe tbody tr th:only-of-type {\n",
       "        vertical-align: middle;\n",
       "    }\n",
       "\n",
       "    .dataframe tbody tr th {\n",
       "        vertical-align: top;\n",
       "    }\n",
       "\n",
       "    .dataframe thead th {\n",
       "        text-align: right;\n",
       "    }\n",
       "</style>\n",
       "<table border=\"1\" class=\"dataframe\">\n",
       "  <thead>\n",
       "    <tr style=\"text-align: right;\">\n",
       "      <th></th>\n",
       "      <th>Name</th>\n",
       "      <th>CGPA</th>\n",
       "      <th>Course</th>\n",
       "      <th>WorkExp(Months)</th>\n",
       "      <th>WorkExp(Years)</th>\n",
       "      <th>Research</th>\n",
       "      <th>Quant</th>\n",
       "      <th>Verbal</th>\n",
       "      <th>AWA</th>\n",
       "      <th>GRE</th>\n",
       "      <th>Speaking</th>\n",
       "      <th>Listening</th>\n",
       "      <th>Writing</th>\n",
       "      <th>Reading</th>\n",
       "      <th>Exam</th>\n",
       "      <th>Score</th>\n",
       "      <th>Admit/Reject</th>\n",
       "    </tr>\n",
       "  </thead>\n",
       "  <tbody>\n",
       "    <tr>\n",
       "      <th>0</th>\n",
       "      <td>Swetha Gadde</td>\n",
       "      <td>7.50</td>\n",
       "      <td>Arizona State University - Tempe - Computer Sc...</td>\n",
       "      <td>13</td>\n",
       "      <td>1.1</td>\n",
       "      <td>1</td>\n",
       "      <td>163</td>\n",
       "      <td>152</td>\n",
       "      <td>4.0</td>\n",
       "      <td>315</td>\n",
       "      <td>6.5</td>\n",
       "      <td>9.0</td>\n",
       "      <td>6.5</td>\n",
       "      <td>9.0</td>\n",
       "      <td>IELTS</td>\n",
       "      <td>8.0</td>\n",
       "      <td>admit</td>\n",
       "    </tr>\n",
       "    <tr>\n",
       "      <th>1</th>\n",
       "      <td>Mahendra Kumar Kodidala</td>\n",
       "      <td>8.27</td>\n",
       "      <td>Arizona State University - Tempe - Computer En...</td>\n",
       "      <td>0</td>\n",
       "      <td>0.0</td>\n",
       "      <td>0</td>\n",
       "      <td>156</td>\n",
       "      <td>145</td>\n",
       "      <td>3.0</td>\n",
       "      <td>301</td>\n",
       "      <td>7.0</td>\n",
       "      <td>8.0</td>\n",
       "      <td>6.5</td>\n",
       "      <td>8.5</td>\n",
       "      <td>IELTS</td>\n",
       "      <td>7.0</td>\n",
       "      <td>admit</td>\n",
       "    </tr>\n",
       "    <tr>\n",
       "      <th>2</th>\n",
       "      <td>Naga Manasa Palaparthi</td>\n",
       "      <td>7.59</td>\n",
       "      <td>Arizona State University - Tempe - Computer Sc...</td>\n",
       "      <td>15</td>\n",
       "      <td>1.3</td>\n",
       "      <td>0</td>\n",
       "      <td>156</td>\n",
       "      <td>143</td>\n",
       "      <td>3.5</td>\n",
       "      <td>299</td>\n",
       "      <td>7.0</td>\n",
       "      <td>8.0</td>\n",
       "      <td>6.0</td>\n",
       "      <td>8.5</td>\n",
       "      <td>IELTS</td>\n",
       "      <td>7.5</td>\n",
       "      <td>reject</td>\n",
       "    </tr>\n",
       "    <tr>\n",
       "      <th>3</th>\n",
       "      <td>Harshit Allumolu</td>\n",
       "      <td>7.06</td>\n",
       "      <td>Arizona State University - Tempe - Computer Sc...</td>\n",
       "      <td>12</td>\n",
       "      <td>1.0</td>\n",
       "      <td>0</td>\n",
       "      <td>169</td>\n",
       "      <td>146</td>\n",
       "      <td>4.5</td>\n",
       "      <td>315</td>\n",
       "      <td>7.0</td>\n",
       "      <td>9.0</td>\n",
       "      <td>7.0</td>\n",
       "      <td>8.5</td>\n",
       "      <td>IELTS</td>\n",
       "      <td>8.0</td>\n",
       "      <td>admit</td>\n",
       "    </tr>\n",
       "    <tr>\n",
       "      <th>4</th>\n",
       "      <td>Adithya G</td>\n",
       "      <td>8.40</td>\n",
       "      <td>Arizona State University - Tempe - Mechnical E...</td>\n",
       "      <td>18</td>\n",
       "      <td>1.6</td>\n",
       "      <td>1</td>\n",
       "      <td>165</td>\n",
       "      <td>158</td>\n",
       "      <td>3.0</td>\n",
       "      <td>323</td>\n",
       "      <td>7.0</td>\n",
       "      <td>8.5</td>\n",
       "      <td>6.5</td>\n",
       "      <td>7.5</td>\n",
       "      <td>IELTS</td>\n",
       "      <td>7.5</td>\n",
       "      <td>admit</td>\n",
       "    </tr>\n",
       "    <tr>\n",
       "      <th>...</th>\n",
       "      <td>...</td>\n",
       "      <td>...</td>\n",
       "      <td>...</td>\n",
       "      <td>...</td>\n",
       "      <td>...</td>\n",
       "      <td>...</td>\n",
       "      <td>...</td>\n",
       "      <td>...</td>\n",
       "      <td>...</td>\n",
       "      <td>...</td>\n",
       "      <td>...</td>\n",
       "      <td>...</td>\n",
       "      <td>...</td>\n",
       "      <td>...</td>\n",
       "      <td>...</td>\n",
       "      <td>...</td>\n",
       "      <td>...</td>\n",
       "    </tr>\n",
       "    <tr>\n",
       "      <th>1224</th>\n",
       "      <td>Vinutha Ananth</td>\n",
       "      <td>9.00</td>\n",
       "      <td>University of Texas - Austin - Computer Science</td>\n",
       "      <td>40</td>\n",
       "      <td>3.4</td>\n",
       "      <td>0</td>\n",
       "      <td>150</td>\n",
       "      <td>155</td>\n",
       "      <td>4.0</td>\n",
       "      <td>305</td>\n",
       "      <td>29.0</td>\n",
       "      <td>30.0</td>\n",
       "      <td>28.0</td>\n",
       "      <td>28.0</td>\n",
       "      <td>TOEFL</td>\n",
       "      <td>115.0</td>\n",
       "      <td>reject</td>\n",
       "    </tr>\n",
       "    <tr>\n",
       "      <th>1225</th>\n",
       "      <td>Aditya Varshney</td>\n",
       "      <td>8.30</td>\n",
       "      <td>University of Texas - Austin - Computer Engine...</td>\n",
       "      <td>28</td>\n",
       "      <td>2.4</td>\n",
       "      <td>0</td>\n",
       "      <td>164</td>\n",
       "      <td>151</td>\n",
       "      <td>3.0</td>\n",
       "      <td>315</td>\n",
       "      <td>27.0</td>\n",
       "      <td>29.0</td>\n",
       "      <td>26.0</td>\n",
       "      <td>25.0</td>\n",
       "      <td>TOEFL</td>\n",
       "      <td>107.0</td>\n",
       "      <td>reject</td>\n",
       "    </tr>\n",
       "    <tr>\n",
       "      <th>1226</th>\n",
       "      <td>Abhinav Singh</td>\n",
       "      <td>8.27</td>\n",
       "      <td>University of Texas - Austin - Business Analytics</td>\n",
       "      <td>33</td>\n",
       "      <td>2.9</td>\n",
       "      <td>0</td>\n",
       "      <td>170</td>\n",
       "      <td>157</td>\n",
       "      <td>3.0</td>\n",
       "      <td>327</td>\n",
       "      <td>25.0</td>\n",
       "      <td>28.0</td>\n",
       "      <td>24.0</td>\n",
       "      <td>30.0</td>\n",
       "      <td>TOEFL</td>\n",
       "      <td>107.0</td>\n",
       "      <td>reject</td>\n",
       "    </tr>\n",
       "    <tr>\n",
       "      <th>1227</th>\n",
       "      <td>Parth Mandaliya</td>\n",
       "      <td>7.57</td>\n",
       "      <td>University of Texas - Austin - Computer Science</td>\n",
       "      <td>29</td>\n",
       "      <td>2.5</td>\n",
       "      <td>0</td>\n",
       "      <td>160</td>\n",
       "      <td>170</td>\n",
       "      <td>5.0</td>\n",
       "      <td>330</td>\n",
       "      <td>25.0</td>\n",
       "      <td>25.0</td>\n",
       "      <td>25.0</td>\n",
       "      <td>25.0</td>\n",
       "      <td>TOEFL</td>\n",
       "      <td>100.0</td>\n",
       "      <td>admit</td>\n",
       "    </tr>\n",
       "    <tr>\n",
       "      <th>1228</th>\n",
       "      <td>Ajay Krishna</td>\n",
       "      <td>8.04</td>\n",
       "      <td>University of Texas - Austin - Business</td>\n",
       "      <td>15</td>\n",
       "      <td>1.3</td>\n",
       "      <td>0</td>\n",
       "      <td>165</td>\n",
       "      <td>155</td>\n",
       "      <td>5.0</td>\n",
       "      <td>320</td>\n",
       "      <td>27.0</td>\n",
       "      <td>27.0</td>\n",
       "      <td>27.0</td>\n",
       "      <td>30.0</td>\n",
       "      <td>TOEFL</td>\n",
       "      <td>111.0</td>\n",
       "      <td>admit</td>\n",
       "    </tr>\n",
       "  </tbody>\n",
       "</table>\n",
       "<p>2058 rows × 17 columns</p>\n",
       "</div>"
      ],
      "text/plain": [
       "                         Name  CGPA  \\\n",
       "0                Swetha Gadde  7.50   \n",
       "1     Mahendra Kumar Kodidala  8.27   \n",
       "2      Naga Manasa Palaparthi  7.59   \n",
       "3            Harshit Allumolu  7.06   \n",
       "4                   Adithya G  8.40   \n",
       "...                       ...   ...   \n",
       "1224           Vinutha Ananth  9.00   \n",
       "1225          Aditya Varshney  8.30   \n",
       "1226            Abhinav Singh  8.27   \n",
       "1227          Parth Mandaliya  7.57   \n",
       "1228             Ajay Krishna  8.04   \n",
       "\n",
       "                                                 Course  WorkExp(Months)  \\\n",
       "0     Arizona State University - Tempe - Computer Sc...               13   \n",
       "1     Arizona State University - Tempe - Computer En...                0   \n",
       "2     Arizona State University - Tempe - Computer Sc...               15   \n",
       "3     Arizona State University - Tempe - Computer Sc...               12   \n",
       "4     Arizona State University - Tempe - Mechnical E...               18   \n",
       "...                                                 ...              ...   \n",
       "1224    University of Texas - Austin - Computer Science               40   \n",
       "1225  University of Texas - Austin - Computer Engine...               28   \n",
       "1226  University of Texas - Austin - Business Analytics               33   \n",
       "1227    University of Texas - Austin - Computer Science               29   \n",
       "1228            University of Texas - Austin - Business               15   \n",
       "\n",
       "      WorkExp(Years)  Research  Quant  Verbal  AWA  GRE  Speaking  Listening  \\\n",
       "0                1.1         1    163     152  4.0  315       6.5        9.0   \n",
       "1                0.0         0    156     145  3.0  301       7.0        8.0   \n",
       "2                1.3         0    156     143  3.5  299       7.0        8.0   \n",
       "3                1.0         0    169     146  4.5  315       7.0        9.0   \n",
       "4                1.6         1    165     158  3.0  323       7.0        8.5   \n",
       "...              ...       ...    ...     ...  ...  ...       ...        ...   \n",
       "1224             3.4         0    150     155  4.0  305      29.0       30.0   \n",
       "1225             2.4         0    164     151  3.0  315      27.0       29.0   \n",
       "1226             2.9         0    170     157  3.0  327      25.0       28.0   \n",
       "1227             2.5         0    160     170  5.0  330      25.0       25.0   \n",
       "1228             1.3         0    165     155  5.0  320      27.0       27.0   \n",
       "\n",
       "      Writing  Reading   Exam  Score Admit/Reject  \n",
       "0         6.5      9.0  IELTS    8.0        admit  \n",
       "1         6.5      8.5  IELTS    7.0        admit  \n",
       "2         6.0      8.5  IELTS    7.5       reject  \n",
       "3         7.0      8.5  IELTS    8.0        admit  \n",
       "4         6.5      7.5  IELTS    7.5        admit  \n",
       "...       ...      ...    ...    ...          ...  \n",
       "1224     28.0     28.0  TOEFL  115.0       reject  \n",
       "1225     26.0     25.0  TOEFL  107.0       reject  \n",
       "1226     24.0     30.0  TOEFL  107.0       reject  \n",
       "1227     25.0     25.0  TOEFL  100.0        admit  \n",
       "1228     27.0     30.0  TOEFL  111.0        admit  \n",
       "\n",
       "[2058 rows x 17 columns]"
      ]
     },
     "execution_count": 154,
     "metadata": {},
     "output_type": "execute_result"
    }
   ],
   "source": [
    "# creating exam category based on Score\n",
    "final_df['Exam'] = final_df['Score'].apply(create_exam)\n",
    "\n",
    "# rearranging columns for better understanding\n",
    "final_df = final_df[['Name', 'CGPA', 'Course', 'WorkExp(Months)', 'WorkExp(Years)', 'Research',\n",
    "                     'Quant', 'Verbal', 'AWA', 'GRE', 'Speaking', 'Listening', 'Writing',\n",
    "                     'Reading', 'Exam', 'Score', 'Admit/Reject']]\n",
    "final_df"
   ]
  },
  {
   "cell_type": "markdown",
   "id": "6337124a",
   "metadata": {},
   "source": [
    "Let's separate university and course specialization so we can use them as different features for model building."
   ]
  },
  {
   "cell_type": "code",
   "execution_count": 155,
   "id": "1258819b",
   "metadata": {},
   "outputs": [],
   "source": [
    "def extract_uni(col):\n",
    "    list1 = col.split('-')\n",
    "    \n",
    "    if list1[0] == 'SUNY ':\n",
    "        return list1[1].strip()\n",
    "    else:\n",
    "        return list1[0].strip()\n",
    "    \n",
    "def extract_course(col):\n",
    "    list1 = col.split('-')\n",
    "    if len(list1) == 2:\n",
    "        return list1[1].strip()\n",
    "    elif len(list1) == 3:\n",
    "        return list1[2].strip()\n",
    "    elif len(list1) == 4:\n",
    "        return list1[2].strip()+ ' ' + list1[3].strip()"
   ]
  },
  {
   "cell_type": "code",
   "execution_count": 156,
   "id": "d1857a26",
   "metadata": {},
   "outputs": [],
   "source": [
    "final_df['University'] = final_df['Course'].apply(extract_uni)\n",
    "final_df['Specialization'] = final_df['Course'].apply(extract_course)"
   ]
  },
  {
   "cell_type": "code",
   "execution_count": 157,
   "id": "b59ee25e",
   "metadata": {},
   "outputs": [
    {
     "data": {
      "text/plain": [
       "Index(['Name', 'CGPA', 'Course', 'WorkExp(Months)', 'WorkExp(Years)',\n",
       "       'Research', 'Quant', 'Verbal', 'AWA', 'GRE', 'Speaking', 'Listening',\n",
       "       'Writing', 'Reading', 'Exam', 'Score', 'Admit/Reject', 'University',\n",
       "       'Specialization'],\n",
       "      dtype='object')"
      ]
     },
     "execution_count": 157,
     "metadata": {},
     "output_type": "execute_result"
    }
   ],
   "source": [
    "final_df.columns"
   ]
  },
  {
   "cell_type": "code",
   "execution_count": 158,
   "id": "304e543b",
   "metadata": {},
   "outputs": [
    {
     "data": {
      "text/html": [
       "<div>\n",
       "<style scoped>\n",
       "    .dataframe tbody tr th:only-of-type {\n",
       "        vertical-align: middle;\n",
       "    }\n",
       "\n",
       "    .dataframe tbody tr th {\n",
       "        vertical-align: top;\n",
       "    }\n",
       "\n",
       "    .dataframe thead th {\n",
       "        text-align: right;\n",
       "    }\n",
       "</style>\n",
       "<table border=\"1\" class=\"dataframe\">\n",
       "  <thead>\n",
       "    <tr style=\"text-align: right;\">\n",
       "      <th></th>\n",
       "      <th>Name</th>\n",
       "      <th>University</th>\n",
       "      <th>Specialization</th>\n",
       "      <th>CGPA</th>\n",
       "      <th>Course</th>\n",
       "      <th>WorkExp(Months)</th>\n",
       "      <th>WorkExp(Years)</th>\n",
       "      <th>Research</th>\n",
       "      <th>Quant</th>\n",
       "      <th>Verbal</th>\n",
       "      <th>AWA</th>\n",
       "      <th>GRE</th>\n",
       "      <th>Speaking</th>\n",
       "      <th>Listening</th>\n",
       "      <th>Writing</th>\n",
       "      <th>Reading</th>\n",
       "      <th>Exam</th>\n",
       "      <th>Score</th>\n",
       "      <th>Admit/Reject</th>\n",
       "    </tr>\n",
       "  </thead>\n",
       "  <tbody>\n",
       "    <tr>\n",
       "      <th>0</th>\n",
       "      <td>Swetha Gadde</td>\n",
       "      <td>Arizona State University</td>\n",
       "      <td>Computer Science and Engineering</td>\n",
       "      <td>7.50</td>\n",
       "      <td>Arizona State University - Tempe - Computer Sc...</td>\n",
       "      <td>13</td>\n",
       "      <td>1.1</td>\n",
       "      <td>1</td>\n",
       "      <td>163</td>\n",
       "      <td>152</td>\n",
       "      <td>4.0</td>\n",
       "      <td>315</td>\n",
       "      <td>6.5</td>\n",
       "      <td>9.0</td>\n",
       "      <td>6.5</td>\n",
       "      <td>9.0</td>\n",
       "      <td>IELTS</td>\n",
       "      <td>8.0</td>\n",
       "      <td>admit</td>\n",
       "    </tr>\n",
       "    <tr>\n",
       "      <th>1</th>\n",
       "      <td>Mahendra Kumar Kodidala</td>\n",
       "      <td>Arizona State University</td>\n",
       "      <td>Computer Engineering Electrical Engineering</td>\n",
       "      <td>8.27</td>\n",
       "      <td>Arizona State University - Tempe - Computer En...</td>\n",
       "      <td>0</td>\n",
       "      <td>0.0</td>\n",
       "      <td>0</td>\n",
       "      <td>156</td>\n",
       "      <td>145</td>\n",
       "      <td>3.0</td>\n",
       "      <td>301</td>\n",
       "      <td>7.0</td>\n",
       "      <td>8.0</td>\n",
       "      <td>6.5</td>\n",
       "      <td>8.5</td>\n",
       "      <td>IELTS</td>\n",
       "      <td>7.0</td>\n",
       "      <td>admit</td>\n",
       "    </tr>\n",
       "    <tr>\n",
       "      <th>2</th>\n",
       "      <td>Naga Manasa Palaparthi</td>\n",
       "      <td>Arizona State University</td>\n",
       "      <td>Computer Science Big Data Systems</td>\n",
       "      <td>7.59</td>\n",
       "      <td>Arizona State University - Tempe - Computer Sc...</td>\n",
       "      <td>15</td>\n",
       "      <td>1.3</td>\n",
       "      <td>0</td>\n",
       "      <td>156</td>\n",
       "      <td>143</td>\n",
       "      <td>3.5</td>\n",
       "      <td>299</td>\n",
       "      <td>7.0</td>\n",
       "      <td>8.0</td>\n",
       "      <td>6.0</td>\n",
       "      <td>8.5</td>\n",
       "      <td>IELTS</td>\n",
       "      <td>7.5</td>\n",
       "      <td>reject</td>\n",
       "    </tr>\n",
       "    <tr>\n",
       "      <th>3</th>\n",
       "      <td>Harshit Allumolu</td>\n",
       "      <td>Arizona State University</td>\n",
       "      <td>Computer Science</td>\n",
       "      <td>7.06</td>\n",
       "      <td>Arizona State University - Tempe - Computer Sc...</td>\n",
       "      <td>12</td>\n",
       "      <td>1.0</td>\n",
       "      <td>0</td>\n",
       "      <td>169</td>\n",
       "      <td>146</td>\n",
       "      <td>4.5</td>\n",
       "      <td>315</td>\n",
       "      <td>7.0</td>\n",
       "      <td>9.0</td>\n",
       "      <td>7.0</td>\n",
       "      <td>8.5</td>\n",
       "      <td>IELTS</td>\n",
       "      <td>8.0</td>\n",
       "      <td>admit</td>\n",
       "    </tr>\n",
       "    <tr>\n",
       "      <th>4</th>\n",
       "      <td>Adithya G</td>\n",
       "      <td>Arizona State University</td>\n",
       "      <td>Mechnical Engineering</td>\n",
       "      <td>8.40</td>\n",
       "      <td>Arizona State University - Tempe - Mechnical E...</td>\n",
       "      <td>18</td>\n",
       "      <td>1.6</td>\n",
       "      <td>1</td>\n",
       "      <td>165</td>\n",
       "      <td>158</td>\n",
       "      <td>3.0</td>\n",
       "      <td>323</td>\n",
       "      <td>7.0</td>\n",
       "      <td>8.5</td>\n",
       "      <td>6.5</td>\n",
       "      <td>7.5</td>\n",
       "      <td>IELTS</td>\n",
       "      <td>7.5</td>\n",
       "      <td>admit</td>\n",
       "    </tr>\n",
       "  </tbody>\n",
       "</table>\n",
       "</div>"
      ],
      "text/plain": [
       "                      Name                University  \\\n",
       "0             Swetha Gadde  Arizona State University   \n",
       "1  Mahendra Kumar Kodidala  Arizona State University   \n",
       "2   Naga Manasa Palaparthi  Arizona State University   \n",
       "3         Harshit Allumolu  Arizona State University   \n",
       "4                Adithya G  Arizona State University   \n",
       "\n",
       "                                Specialization  CGPA  \\\n",
       "0             Computer Science and Engineering  7.50   \n",
       "1  Computer Engineering Electrical Engineering  8.27   \n",
       "2            Computer Science Big Data Systems  7.59   \n",
       "3                             Computer Science  7.06   \n",
       "4                        Mechnical Engineering  8.40   \n",
       "\n",
       "                                              Course  WorkExp(Months)  \\\n",
       "0  Arizona State University - Tempe - Computer Sc...               13   \n",
       "1  Arizona State University - Tempe - Computer En...                0   \n",
       "2  Arizona State University - Tempe - Computer Sc...               15   \n",
       "3  Arizona State University - Tempe - Computer Sc...               12   \n",
       "4  Arizona State University - Tempe - Mechnical E...               18   \n",
       "\n",
       "   WorkExp(Years)  Research  Quant  Verbal  AWA  GRE  Speaking  Listening  \\\n",
       "0             1.1         1    163     152  4.0  315       6.5        9.0   \n",
       "1             0.0         0    156     145  3.0  301       7.0        8.0   \n",
       "2             1.3         0    156     143  3.5  299       7.0        8.0   \n",
       "3             1.0         0    169     146  4.5  315       7.0        9.0   \n",
       "4             1.6         1    165     158  3.0  323       7.0        8.5   \n",
       "\n",
       "   Writing  Reading   Exam  Score Admit/Reject  \n",
       "0      6.5      9.0  IELTS    8.0        admit  \n",
       "1      6.5      8.5  IELTS    7.0        admit  \n",
       "2      6.0      8.5  IELTS    7.5       reject  \n",
       "3      7.0      8.5  IELTS    8.0        admit  \n",
       "4      6.5      7.5  IELTS    7.5        admit  "
      ]
     },
     "execution_count": 158,
     "metadata": {},
     "output_type": "execute_result"
    }
   ],
   "source": [
    "final_df = final_df[['Name', 'University', 'Specialization', 'CGPA', 'Course', 'WorkExp(Months)', 'WorkExp(Years)', 'Research',\n",
    "                     'Quant', 'Verbal', 'AWA', 'GRE', 'Speaking', 'Listening', 'Writing', 'Reading', 'Exam', 'Score', \n",
    "                     'Admit/Reject']]\n",
    "final_df.head()"
   ]
  },
  {
   "cell_type": "code",
   "execution_count": 159,
   "id": "781a5f2e",
   "metadata": {},
   "outputs": [],
   "source": [
    "final_df.to_excel('Preprocessed & Combined/Combined.xlsx', index=False)\n",
    "ielts_df.to_excel('Preprocessed & Combined/IELTS.xlsx', index=False)\n",
    "toefl_df.to_excel('Preprocessed & Combined/TOEFL.xlsx', index=False)"
   ]
  },
  {
   "cell_type": "code",
   "execution_count": 160,
   "id": "2f719efe",
   "metadata": {},
   "outputs": [
    {
     "data": {
      "image/png": "[encoded data removed]",
      "text/plain": [
       "<Figure size 1152x864 with 16 Axes>"
      ]
     },
     "metadata": {
      "needs_background": "light"
     },
     "output_type": "display_data"
    }
   ],
   "source": [
    "final_df.hist(figsize=(16, 12));"
   ]
  },
  {
   "cell_type": "code",
   "execution_count": 161,
   "id": "228d3b83",
   "metadata": {},
   "outputs": [
    {
     "data": {
      "text/plain": [
       "<AxesSubplot:>"
      ]
     },
     "execution_count": 161,
     "metadata": {},
     "output_type": "execute_result"
    },
    {
     "data": {
      "image/png": "[encoded data removed]",
      "text/plain": [
       "<Figure size 1080x576 with 1 Axes>"
      ]
     },
     "metadata": {
      "needs_background": "light"
     },
     "output_type": "display_data"
    }
   ],
   "source": [
    "final_df.plot(kind='box', figsize=(15, 8))"
   ]
  },
  {
   "cell_type": "code",
   "execution_count": 162,
   "id": "70532a1b",
   "metadata": {},
   "outputs": [],
   "source": [
    "final_df['Admit/Reject'].replace({'admit': 1, 'reject': 0}, inplace=True)"
   ]
  },
  {
   "cell_type": "code",
   "execution_count": 163,
   "id": "c17a4020",
   "metadata": {},
   "outputs": [],
   "source": [
    "dummy_df = pd.get_dummies(final_df[['University', 'Specialization', 'Exam']])\n",
    "final_df2 = pd.concat([final_df, dummy_df], axis=1)\n",
    "final_df2.dropna(axis=0, inplace=True)"
   ]
  },
  {
   "cell_type": "code",
   "execution_count": 166,
   "id": "a5b972c7",
   "metadata": {},
   "outputs": [
    {
     "data": {
      "text/plain": [
       "(2057, 223)"
      ]
     },
     "execution_count": 166,
     "metadata": {},
     "output_type": "execute_result"
    }
   ],
   "source": [
    "final_df2.shape"
   ]
  },
  {
   "cell_type": "code",
   "execution_count": 167,
   "id": "8ebaeaae",
   "metadata": {},
   "outputs": [
    {
     "data": {
      "text/html": [
       "<div>\n",
       "<style scoped>\n",
       "    .dataframe tbody tr th:only-of-type {\n",
       "        vertical-align: middle;\n",
       "    }\n",
       "\n",
       "    .dataframe tbody tr th {\n",
       "        vertical-align: top;\n",
       "    }\n",
       "\n",
       "    .dataframe thead th {\n",
       "        text-align: right;\n",
       "    }\n",
       "</style>\n",
       "<table border=\"1\" class=\"dataframe\">\n",
       "  <thead>\n",
       "    <tr style=\"text-align: right;\">\n",
       "      <th></th>\n",
       "      <th>Name</th>\n",
       "      <th>University</th>\n",
       "      <th>Specialization</th>\n",
       "      <th>CGPA</th>\n",
       "      <th>Course</th>\n",
       "      <th>WorkExp(Months)</th>\n",
       "      <th>WorkExp(Years)</th>\n",
       "      <th>Research</th>\n",
       "      <th>Quant</th>\n",
       "      <th>Verbal</th>\n",
       "      <th>AWA</th>\n",
       "      <th>GRE</th>\n",
       "      <th>Speaking</th>\n",
       "      <th>Listening</th>\n",
       "      <th>Writing</th>\n",
       "      <th>Reading</th>\n",
       "      <th>Exam</th>\n",
       "      <th>Score</th>\n",
       "      <th>Admit/Reject</th>\n",
       "    </tr>\n",
       "  </thead>\n",
       "  <tbody>\n",
       "    <tr>\n",
       "      <th>0</th>\n",
       "      <td>Swetha Gadde</td>\n",
       "      <td>Arizona State University</td>\n",
       "      <td>Computer Science and Engineering</td>\n",
       "      <td>7.50</td>\n",
       "      <td>Arizona State University - Tempe - Computer Sc...</td>\n",
       "      <td>13</td>\n",
       "      <td>1.1</td>\n",
       "      <td>1</td>\n",
       "      <td>163</td>\n",
       "      <td>152</td>\n",
       "      <td>4.0</td>\n",
       "      <td>315</td>\n",
       "      <td>6.5</td>\n",
       "      <td>9.0</td>\n",
       "      <td>6.5</td>\n",
       "      <td>9.0</td>\n",
       "      <td>IELTS</td>\n",
       "      <td>8.0</td>\n",
       "      <td>1</td>\n",
       "    </tr>\n",
       "    <tr>\n",
       "      <th>1</th>\n",
       "      <td>Mahendra Kumar Kodidala</td>\n",
       "      <td>Arizona State University</td>\n",
       "      <td>Computer Engineering Electrical Engineering</td>\n",
       "      <td>8.27</td>\n",
       "      <td>Arizona State University - Tempe - Computer En...</td>\n",
       "      <td>0</td>\n",
       "      <td>0.0</td>\n",
       "      <td>0</td>\n",
       "      <td>156</td>\n",
       "      <td>145</td>\n",
       "      <td>3.0</td>\n",
       "      <td>301</td>\n",
       "      <td>7.0</td>\n",
       "      <td>8.0</td>\n",
       "      <td>6.5</td>\n",
       "      <td>8.5</td>\n",
       "      <td>IELTS</td>\n",
       "      <td>7.0</td>\n",
       "      <td>1</td>\n",
       "    </tr>\n",
       "    <tr>\n",
       "      <th>2</th>\n",
       "      <td>Naga Manasa Palaparthi</td>\n",
       "      <td>Arizona State University</td>\n",
       "      <td>Computer Science Big Data Systems</td>\n",
       "      <td>7.59</td>\n",
       "      <td>Arizona State University - Tempe - Computer Sc...</td>\n",
       "      <td>15</td>\n",
       "      <td>1.3</td>\n",
       "      <td>0</td>\n",
       "      <td>156</td>\n",
       "      <td>143</td>\n",
       "      <td>3.5</td>\n",
       "      <td>299</td>\n",
       "      <td>7.0</td>\n",
       "      <td>8.0</td>\n",
       "      <td>6.0</td>\n",
       "      <td>8.5</td>\n",
       "      <td>IELTS</td>\n",
       "      <td>7.5</td>\n",
       "      <td>0</td>\n",
       "    </tr>\n",
       "    <tr>\n",
       "      <th>3</th>\n",
       "      <td>Harshit Allumolu</td>\n",
       "      <td>Arizona State University</td>\n",
       "      <td>Computer Science</td>\n",
       "      <td>7.06</td>\n",
       "      <td>Arizona State University - Tempe - Computer Sc...</td>\n",
       "      <td>12</td>\n",
       "      <td>1.0</td>\n",
       "      <td>0</td>\n",
       "      <td>169</td>\n",
       "      <td>146</td>\n",
       "      <td>4.5</td>\n",
       "      <td>315</td>\n",
       "      <td>7.0</td>\n",
       "      <td>9.0</td>\n",
       "      <td>7.0</td>\n",
       "      <td>8.5</td>\n",
       "      <td>IELTS</td>\n",
       "      <td>8.0</td>\n",
       "      <td>1</td>\n",
       "    </tr>\n",
       "    <tr>\n",
       "      <th>4</th>\n",
       "      <td>Adithya G</td>\n",
       "      <td>Arizona State University</td>\n",
       "      <td>Mechnical Engineering</td>\n",
       "      <td>8.40</td>\n",
       "      <td>Arizona State University - Tempe - Mechnical E...</td>\n",
       "      <td>18</td>\n",
       "      <td>1.6</td>\n",
       "      <td>1</td>\n",
       "      <td>165</td>\n",
       "      <td>158</td>\n",
       "      <td>3.0</td>\n",
       "      <td>323</td>\n",
       "      <td>7.0</td>\n",
       "      <td>8.5</td>\n",
       "      <td>6.5</td>\n",
       "      <td>7.5</td>\n",
       "      <td>IELTS</td>\n",
       "      <td>7.5</td>\n",
       "      <td>1</td>\n",
       "    </tr>\n",
       "  </tbody>\n",
       "</table>\n",
       "</div>"
      ],
      "text/plain": [
       "                      Name                University  \\\n",
       "0             Swetha Gadde  Arizona State University   \n",
       "1  Mahendra Kumar Kodidala  Arizona State University   \n",
       "2   Naga Manasa Palaparthi  Arizona State University   \n",
       "3         Harshit Allumolu  Arizona State University   \n",
       "4                Adithya G  Arizona State University   \n",
       "\n",
       "                                Specialization  CGPA  \\\n",
       "0             Computer Science and Engineering  7.50   \n",
       "1  Computer Engineering Electrical Engineering  8.27   \n",
       "2            Computer Science Big Data Systems  7.59   \n",
       "3                             Computer Science  7.06   \n",
       "4                        Mechnical Engineering  8.40   \n",
       "\n",
       "                                              Course  WorkExp(Months)  \\\n",
       "0  Arizona State University - Tempe - Computer Sc...               13   \n",
       "1  Arizona State University - Tempe - Computer En...                0   \n",
       "2  Arizona State University - Tempe - Computer Sc...               15   \n",
       "3  Arizona State University - Tempe - Computer Sc...               12   \n",
       "4  Arizona State University - Tempe - Mechnical E...               18   \n",
       "\n",
       "   WorkExp(Years)  Research  Quant  Verbal  AWA  GRE  Speaking  Listening  \\\n",
       "0             1.1         1    163     152  4.0  315       6.5        9.0   \n",
       "1             0.0         0    156     145  3.0  301       7.0        8.0   \n",
       "2             1.3         0    156     143  3.5  299       7.0        8.0   \n",
       "3             1.0         0    169     146  4.5  315       7.0        9.0   \n",
       "4             1.6         1    165     158  3.0  323       7.0        8.5   \n",
       "\n",
       "   Writing  Reading   Exam  Score  Admit/Reject  \n",
       "0      6.5      9.0  IELTS    8.0             1  \n",
       "1      6.5      8.5  IELTS    7.0             1  \n",
       "2      6.0      8.5  IELTS    7.5             0  \n",
       "3      7.0      8.5  IELTS    8.0             1  \n",
       "4      6.5      7.5  IELTS    7.5             1  "
      ]
     },
     "execution_count": 167,
     "metadata": {},
     "output_type": "execute_result"
    }
   ],
   "source": [
    "final_df.head()"
   ]
  },
  {
   "cell_type": "markdown",
   "id": "491b33c1",
   "metadata": {},
   "source": [
    "### Model Building"
   ]
  },
  {
   "cell_type": "markdown",
   "id": "9f7953ae",
   "metadata": {},
   "source": [
    "Train & Test sets are ready, so we can start with model training."
   ]
  },
  {
   "cell_type": "code",
   "execution_count": 168,
   "id": "99fab732",
   "metadata": {},
   "outputs": [
    {
     "name": "stdout",
     "output_type": "stream",
     "text": [
      "Requirement already satisfied: xgboost in c:\\users\\anike\\appdata\\local\\programs\\python\\python38\\lib\\site-packages (1.6.1)\n",
      "Requirement already satisfied: numpy in c:\\users\\anike\\appdata\\local\\programs\\python\\python38\\lib\\site-packages (from xgboost) (1.21.4)\n",
      "Requirement already satisfied: scipy in c:\\users\\anike\\appdata\\local\\programs\\python\\python38\\lib\\site-packages (from xgboost) (1.7.3)\n"
     ]
    },
    {
     "name": "stderr",
     "output_type": "stream",
     "text": [
      "WARNING: You are using pip version 22.0.3; however, version 22.3 is available.\n",
      "You should consider upgrading via the 'c:\\users\\anike\\appdata\\local\\programs\\python\\python38\\python.exe -m pip install --upgrade pip' command.\n"
     ]
    }
   ],
   "source": [
    "!pip install xgboost"
   ]
  },
  {
   "cell_type": "code",
   "execution_count": 169,
   "id": "0060dc8b",
   "metadata": {},
   "outputs": [],
   "source": [
    "from sklearn.linear_model import LinearRegression, LogisticRegression, RidgeClassifier, SGDClassifier\n",
    "from sklearn.svm import SVC\n",
    "from sklearn.ensemble import RandomForestClassifier, AdaBoostClassifier, GradientBoostingClassifier, BaggingClassifier\n",
    "from sklearn.tree import DecisionTreeClassifier\n",
    "from sklearn.neighbors import KNeighborsClassifier\n",
    "from sklearn.metrics import precision_score, recall_score, f1_score, accuracy_score\n",
    "\n",
    "from xgboost import XGBClassifier\n",
    "from sklearn.preprocessing import MinMaxScaler"
   ]
  },
  {
   "cell_type": "code",
   "execution_count": 170,
   "id": "703129d0",
   "metadata": {},
   "outputs": [
    {
     "name": "stdout",
     "output_type": "stream",
     "text": [
      "Train shape:  (1439, 216)\n",
      "Train labels shape:  (1439,)\n",
      "\n",
      "Validation shape:  (309, 216)\n",
      "Validation labels shape:  (309,)\n",
      "\n",
      "Test shape:  (309, 216)\n",
      "Test labels shape:  (309,)\n"
     ]
    }
   ],
   "source": [
    "# separate X and y\n",
    "X = final_df2.drop(['University', 'Name', 'Specialization', 'Exam', 'Admit/Reject', 'Course', 'WorkExp(Months)'], axis=1)\n",
    "y = final_df2['Admit/Reject']\n",
    "\n",
    "# set random seed\n",
    "np.random.seed(10)\n",
    "\n",
    "# scaler = MinMaxScaler()\n",
    "# X = scaler.fit_transform(X)\n",
    "\n",
    "# create train-test split\n",
    "X_train, X_2, y_train, y_2 = train_test_split(X, y, test_size=0.3)\n",
    "X_valid, X_test, y_valid, y_test = train_test_split(X_2, y_2, test_size=0.5)\n",
    "\n",
    "# check their shape\n",
    "print('Train shape: ', X_train.shape)\n",
    "print('Train labels shape: ', y_train.shape)\n",
    "print('\\nValidation shape: ', X_valid.shape)\n",
    "print('Validation labels shape: ', y_valid.shape)\n",
    "print('\\nTest shape: ', X_test.shape)\n",
    "print('Test labels shape: ', y_test.shape)"
   ]
  },
  {
   "cell_type": "code",
   "execution_count": 171,
   "id": "a61eb122",
   "metadata": {},
   "outputs": [
    {
     "name": "stdout",
     "output_type": "stream",
     "text": [
      "Requirement already satisfied: imbalanced-learn in c:\\users\\anike\\appdata\\local\\programs\\python\\python38\\lib\\site-packages (0.9.1)\n",
      "Requirement already satisfied: joblib>=1.0.0 in c:\\users\\anike\\appdata\\local\\programs\\python\\python38\\lib\\site-packages (from imbalanced-learn) (1.1.0)\n",
      "Requirement already satisfied: scikit-learn>=1.1.0 in c:\\users\\anike\\appdata\\local\\programs\\python\\python38\\lib\\site-packages (from imbalanced-learn) (1.1.3)\n",
      "Requirement already satisfied: threadpoolctl>=2.0.0 in c:\\users\\anike\\appdata\\local\\programs\\python\\python38\\lib\\site-packages (from imbalanced-learn) (3.0.0)\n",
      "Requirement already satisfied: scipy>=1.3.2 in c:\\users\\anike\\appdata\\local\\programs\\python\\python38\\lib\\site-packages (from imbalanced-learn) (1.7.3)\n",
      "Requirement already satisfied: numpy>=1.17.3 in c:\\users\\anike\\appdata\\local\\programs\\python\\python38\\lib\\site-packages (from imbalanced-learn) (1.21.4)\n"
     ]
    },
    {
     "name": "stderr",
     "output_type": "stream",
     "text": [
      "WARNING: You are using pip version 22.0.3; however, version 22.3 is available.\n",
      "You should consider upgrading via the 'c:\\users\\anike\\appdata\\local\\programs\\python\\python38\\python.exe -m pip install --upgrade pip' command.\n"
     ]
    }
   ],
   "source": [
    "!pip install imbalanced-learn\n",
    "\n",
    "# conda install -c conda-forge imbalanced-learn"
   ]
  },
  {
   "cell_type": "code",
   "execution_count": 172,
   "id": "f34a6d08",
   "metadata": {},
   "outputs": [],
   "source": [
    "from imblearn.over_sampling import SMOTE\n",
    "X_train, y_train = SMOTE().fit_resample(X=X_train, y=y_train)\n",
    "#y=y_train"
   ]
  },
  {
   "cell_type": "code",
   "execution_count": 173,
   "id": "f34fde87",
   "metadata": {},
   "outputs": [
    {
     "name": "stdout",
     "output_type": "stream",
     "text": [
      "Requirement already satisfied: hyperopt in c:\\users\\anike\\appdata\\local\\programs\\python\\python38\\lib\\site-packages (0.2.7)\n",
      "Requirement already satisfied: tqdm in c:\\users\\anike\\appdata\\local\\programs\\python\\python38\\lib\\site-packages (from hyperopt) (4.64.0)\n",
      "Requirement already satisfied: six in c:\\users\\anike\\appdata\\local\\programs\\python\\python38\\lib\\site-packages (from hyperopt) (1.16.0)\n",
      "Requirement already satisfied: scipy in c:\\users\\anike\\appdata\\local\\programs\\python\\python38\\lib\\site-packages (from hyperopt) (1.7.3)\n",
      "Requirement already satisfied: future in c:\\users\\anike\\appdata\\local\\programs\\python\\python38\\lib\\site-packages (from hyperopt) (0.18.2)\n",
      "Requirement already satisfied: numpy in c:\\users\\anike\\appdata\\local\\programs\\python\\python38\\lib\\site-packages (from hyperopt) (1.21.4)\n",
      "Requirement already satisfied: networkx>=2.2 in c:\\users\\anike\\appdata\\local\\programs\\python\\python38\\lib\\site-packages (from hyperopt) (2.8.8)\n",
      "Requirement already satisfied: cloudpickle in c:\\users\\anike\\appdata\\local\\programs\\python\\python38\\lib\\site-packages (from hyperopt) (2.2.0)\n",
      "Requirement already satisfied: py4j in c:\\users\\anike\\appdata\\local\\programs\\python\\python38\\lib\\site-packages (from hyperopt) (0.10.9.3)\n",
      "Requirement already satisfied: colorama in c:\\users\\anike\\appdata\\local\\programs\\python\\python38\\lib\\site-packages (from tqdm->hyperopt) (0.4.4)\n",
      "Note: you may need to restart the kernel to use updated packages.\n"
     ]
    },
    {
     "name": "stderr",
     "output_type": "stream",
     "text": [
      "WARNING: You are using pip version 22.0.3; however, version 22.3 is available.\n",
      "You should consider upgrading via the 'c:\\users\\anike\\appdata\\local\\programs\\python\\python38\\python.exe -m pip install --upgrade pip' command.\n"
     ]
    }
   ],
   "source": [
    "pip install hyperopt"
   ]
  },
  {
   "cell_type": "code",
   "execution_count": 174,
   "id": "3fb04d7b",
   "metadata": {},
   "outputs": [],
   "source": [
    "from hyperopt import STATUS_OK, Trials, fmin, hp, tpe\n",
    "space={'max_depth': hp.quniform(\"max_depth\", 3, 18, 1),\n",
    "        'gamma': hp.uniform ('gamma', 1,9),\n",
    "        'reg_alpha' : hp.quniform('reg_alpha', 40,180,1),\n",
    "        'reg_lambda' : hp.uniform('reg_lambda', 0,1),\n",
    "        'colsample_bytree' : hp.uniform('colsample_bytree', 0.5,1),\n",
    "        'min_child_weight' : hp.quniform('min_child_weight', 0, 10, 1),\n",
    "        'n_estimators': 180,\n",
    "        'seed': 0\n",
    "    }"
   ]
  },
  {
   "cell_type": "code",
   "execution_count": 175,
   "id": "250ab2c1",
   "metadata": {},
   "outputs": [
    {
     "name": "stdout",
     "output_type": "stream",
     "text": [
      "Accuracy: \n",
      " 0.7508090614886731\n"
     ]
    }
   ],
   "source": [
    "from xgboost import XGBClassifier\n",
    "clf=XGBClassifier(objective='binary:logistic',\n",
    "                          booster='gbtree',\n",
    "                          eval_metric='auc',\n",
    "                          tree_method='hist',max_depth=3, learning_rate=1,reg_alpha=0,gamma=4\n",
    "                          \n",
    "                          )\n",
    "#cv_results = xgb.cv(dtrain=data_dmatrix, params=params, nfold=3,\n",
    "                    #num_boost_round=50,early_stopping_rounds=10,metrics=\"rmse\", as_pandas=True, seed=123)\n",
    "clf.fit(X_train, y_train)\n",
    "y_pred_clf = clf.predict(X_test)\n",
    "print(\"Accuracy: \\n\", accuracy_score(y_test, y_pred_clf))"
   ]
  },
  {
   "cell_type": "code",
   "execution_count": 176,
   "id": "eb3cc05f",
   "metadata": {},
   "outputs": [
    {
     "name": "stdout",
     "output_type": "stream",
     "text": [
      "XB: 0.809928 (0.111584)\n"
     ]
    }
   ],
   "source": [
    "import warnings\n",
    "warnings.filterwarnings(\"ignore\",category=FutureWarning)\n",
    "from sklearn.model_selection import StratifiedKFold\n",
    "from sklearn.model_selection import cross_val_score\n",
    "from sklearn.model_selection import cross_val_score\n",
    "from xgboost import XGBClassifier\n",
    "from sklearn.model_selection import KFold\n",
    "models_list = []\n",
    "models_list.append(('XB', XGBClassifier(objective='binary:logistic',\n",
    "                         booster='gbtree',\n",
    "                          eval_metric='auc',\n",
    "                          tree_method='hist',max_depth=3, learning_rate=1,reg_alpha=0,gamma=4)))\n",
    "results = []\n",
    "algo_names = []\n",
    "\n",
    "for name, model in models_list:\n",
    "    kfold = KFold(n_splits=20, random_state=None)\n",
    "   # n_splits=10, random_state=1, shuffle=True\n",
    "    cross_val_results = cross_val_score(model, X_train, y_train, cv=kfold, scoring = 'accuracy')\n",
    "    results.append(cross_val_results)\n",
    "    algo_names.append(name)\n",
    "    info = \"%s: %f (%f)\" % (name, cross_val_results.mean(), cross_val_results.std())\n",
    "    print(info)\n",
    "\n",
    "\n"
   ]
  },
  {
   "cell_type": "code",
   "execution_count": 177,
   "id": "f82a5bb2",
   "metadata": {},
   "outputs": [
    {
     "name": "stdout",
     "output_type": "stream",
     "text": [
      "XB: 0.809928 (0.111584)\n"
     ]
    }
   ],
   "source": [
    "import warnings\n",
    "warnings.filterwarnings(\"ignore\",category=FutureWarning)\n",
    "from sklearn.model_selection import StratifiedKFold\n",
    "from sklearn.model_selection import cross_val_score\n",
    "from sklearn.model_selection import cross_val_score\n",
    "from xgboost import XGBClassifier\n",
    "from sklearn.model_selection import KFold\n",
    "\n",
    "XB=XGBClassifier(objective='binary:logistic', booster='gbtree', eval_metric='auc',tree_method='hist',max_depth=3, learning_rate=1,reg_alpha=0,gamma=4)\n",
    "kfold = KFold(n_splits=20, random_state=None)\n",
    "   # n_splits=10, random_state=1, shuffle=True\n",
    "cross_val_results = cross_val_score(XB, X_train, y_train, cv=kfold, scoring = 'accuracy')\n",
    "   \n",
    "info = \"%s: %f (%f)\" % (name, cross_val_results.mean(), cross_val_results.std())\n",
    "print(info)\n"
   ]
  },
  {
   "cell_type": "code",
   "execution_count": 178,
   "id": "d5104e0e",
   "metadata": {},
   "outputs": [
    {
     "name": "stdout",
     "output_type": "stream",
     "text": [
      "Training model with Logistic ...\n",
      "Scoring on train & test with Logistic ...\n",
      "\n",
      "Training model with SVC ...\n",
      "Scoring on train & test with SVC ...\n",
      "\n",
      "Training model with Ridge ...\n",
      "Scoring on train & test with Ridge ...\n",
      "\n",
      "Training model with SGD ...\n",
      "Scoring on train & test with SGD ...\n",
      "\n",
      "Training model with KNeighbors ...\n",
      "Scoring on train & test with KNeighbors ...\n",
      "\n",
      "Training model with RandomForest ...\n",
      "Scoring on train & test with RandomForest ...\n",
      "\n",
      "Training model with AdaBoost ...\n",
      "Scoring on train & test with AdaBoost ...\n",
      "\n",
      "Training model with GradientBoosting ...\n",
      "Scoring on train & test with GradientBoosting ...\n",
      "\n",
      "Training model with DecisionTree ...\n",
      "Scoring on train & test with DecisionTree ...\n",
      "\n",
      "Training model with XGBoost ...\n",
      "Scoring on train & test with XGBoost ...\n",
      "\n"
     ]
    }
   ],
   "source": [
    "models = {'Logistic': LogisticRegression(),\n",
    "          'SVC': SVC(),\n",
    "          'Ridge': RidgeClassifier(),\n",
    "          'SGD': SGDClassifier(),\n",
    "          'KNeighbors': KNeighborsClassifier(),\n",
    "          'RandomForest': RandomForestClassifier(),\n",
    "          'AdaBoost': AdaBoostClassifier(),\n",
    "          'GradientBoosting': GradientBoostingClassifier(),\n",
    "          'DecisionTree': DecisionTreeClassifier(),\n",
    "          'XGBoost': XGBClassifier(objective='binary:logistic',\n",
    "                          booster='gbtree',\n",
    "                          eval_metric='auc',\n",
    "                          tree_method='hist',max_depth=3, learning_rate=1,reg_alpha=0,gamma=4)}\n",
    "\n",
    "train_acc = []\n",
    "test_acc = []\n",
    "train_precision = []\n",
    "train_recall = []\n",
    "train_f1_score = []\n",
    "test_precision = []\n",
    "test_recall = []\n",
    "test_f1_score = []\n",
    "\n",
    "for name, model in models.items():\n",
    "    print(f'Training model with {name} ...')\n",
    "    model.fit(X_train, y_train)\n",
    "    print(f'Scoring on train & test with {name} ...\\n')\n",
    "    \n",
    "    # Test score\n",
    "    y_preds1 = model.predict(X_train)\n",
    "    train_acc.append(accuracy_score(y_train, y_preds1))\n",
    "    train_precision.append(precision_score(y_train, y_preds1))\n",
    "    train_recall.append(recall_score(y_train, y_preds1))\n",
    "    train_f1_score.append(f1_score(y_train, y_preds1))\n",
    "    \n",
    "    # Train score\n",
    "    y_preds2 = model.predict(X_test)\n",
    "    test_acc.append(accuracy_score(y_test, y_preds2))\n",
    "    test_precision.append(precision_score(y_test, y_preds2))\n",
    "    test_recall.append(recall_score(y_test, y_preds2))\n",
    "    test_f1_score.append(f1_score(y_test, y_preds2))"
   ]
  },
  {
   "cell_type": "code",
   "execution_count": 70,
   "id": "10cbe742",
   "metadata": {},
   "outputs": [
    {
     "data": {
      "text/plain": [
       "['XGBoost predictor.joblib']"
      ]
     },
     "execution_count": 70,
     "metadata": {},
     "output_type": "execute_result"
    }
   ],
   "source": [
    "joblib.dump(models['XGBoost']., 'XGBoost predictor.joblib')"
   ]
  },
  {
   "cell_type": "markdown",
   "id": "175153ab",
   "metadata": {},
   "source": [
    "### Visualizing Results\n",
    "\n",
    "Let's try to visualize the results for better and clear understanding. For this I created a DataFrame using the list of train and test results we stored earlier."
   ]
  },
  {
   "cell_type": "code",
   "execution_count": 52,
   "id": "c3e859a1",
   "metadata": {},
   "outputs": [
    {
     "data": {
      "text/html": [
       "<div>\n",
       "<style scoped>\n",
       "    .dataframe tbody tr th:only-of-type {\n",
       "        vertical-align: middle;\n",
       "    }\n",
       "\n",
       "    .dataframe tbody tr th {\n",
       "        vertical-align: top;\n",
       "    }\n",
       "\n",
       "    .dataframe thead th {\n",
       "        text-align: right;\n",
       "    }\n",
       "</style>\n",
       "<table border=\"1\" class=\"dataframe\">\n",
       "  <thead>\n",
       "    <tr style=\"text-align: right;\">\n",
       "      <th></th>\n",
       "      <th>Train Accuracy</th>\n",
       "      <th>Train Precision</th>\n",
       "      <th>Train Recall</th>\n",
       "      <th>Train F1 score</th>\n",
       "      <th>Test Accuracy</th>\n",
       "      <th>Test Precision</th>\n",
       "      <th>Test Recall</th>\n",
       "      <th>Test F1 score</th>\n",
       "    </tr>\n",
       "  </thead>\n",
       "  <tbody>\n",
       "    <tr>\n",
       "      <th>Logistic</th>\n",
       "      <td>0.791707</td>\n",
       "      <td>0.816737</td>\n",
       "      <td>0.752195</td>\n",
       "      <td>0.783139</td>\n",
       "      <td>0.708738</td>\n",
       "      <td>0.827225</td>\n",
       "      <td>0.734884</td>\n",
       "      <td>0.778325</td>\n",
       "    </tr>\n",
       "    <tr>\n",
       "      <th>SVC</th>\n",
       "      <td>0.803902</td>\n",
       "      <td>0.831736</td>\n",
       "      <td>0.761951</td>\n",
       "      <td>0.795316</td>\n",
       "      <td>0.708738</td>\n",
       "      <td>0.817259</td>\n",
       "      <td>0.748837</td>\n",
       "      <td>0.781553</td>\n",
       "    </tr>\n",
       "    <tr>\n",
       "      <th>Ridge</th>\n",
       "      <td>0.800000</td>\n",
       "      <td>0.831715</td>\n",
       "      <td>0.752195</td>\n",
       "      <td>0.789959</td>\n",
       "      <td>0.695793</td>\n",
       "      <td>0.827027</td>\n",
       "      <td>0.711628</td>\n",
       "      <td>0.765000</td>\n",
       "    </tr>\n",
       "    <tr>\n",
       "      <th>SGD</th>\n",
       "      <td>0.805366</td>\n",
       "      <td>0.821355</td>\n",
       "      <td>0.780488</td>\n",
       "      <td>0.800400</td>\n",
       "      <td>0.724919</td>\n",
       "      <td>0.835052</td>\n",
       "      <td>0.753488</td>\n",
       "      <td>0.792176</td>\n",
       "    </tr>\n",
       "    <tr>\n",
       "      <th>KNeighbors</th>\n",
       "      <td>0.777561</td>\n",
       "      <td>0.933029</td>\n",
       "      <td>0.598049</td>\n",
       "      <td>0.728894</td>\n",
       "      <td>0.582524</td>\n",
       "      <td>0.858333</td>\n",
       "      <td>0.479070</td>\n",
       "      <td>0.614925</td>\n",
       "    </tr>\n",
       "    <tr>\n",
       "      <th>RandomForest</th>\n",
       "      <td>0.999512</td>\n",
       "      <td>1.000000</td>\n",
       "      <td>0.999024</td>\n",
       "      <td>0.999512</td>\n",
       "      <td>0.747573</td>\n",
       "      <td>0.791489</td>\n",
       "      <td>0.865116</td>\n",
       "      <td>0.826667</td>\n",
       "    </tr>\n",
       "    <tr>\n",
       "      <th>AdaBoost</th>\n",
       "      <td>0.818049</td>\n",
       "      <td>0.831976</td>\n",
       "      <td>0.797073</td>\n",
       "      <td>0.814150</td>\n",
       "      <td>0.705502</td>\n",
       "      <td>0.792453</td>\n",
       "      <td>0.781395</td>\n",
       "      <td>0.786885</td>\n",
       "    </tr>\n",
       "    <tr>\n",
       "      <th>GradientBoosting</th>\n",
       "      <td>0.882439</td>\n",
       "      <td>0.881323</td>\n",
       "      <td>0.883902</td>\n",
       "      <td>0.882611</td>\n",
       "      <td>0.718447</td>\n",
       "      <td>0.778261</td>\n",
       "      <td>0.832558</td>\n",
       "      <td>0.804494</td>\n",
       "    </tr>\n",
       "    <tr>\n",
       "      <th>DecisionTree</th>\n",
       "      <td>0.999512</td>\n",
       "      <td>1.000000</td>\n",
       "      <td>0.999024</td>\n",
       "      <td>0.999512</td>\n",
       "      <td>0.702265</td>\n",
       "      <td>0.783410</td>\n",
       "      <td>0.790698</td>\n",
       "      <td>0.787037</td>\n",
       "    </tr>\n",
       "    <tr>\n",
       "      <th>XGBoost</th>\n",
       "      <td>0.878537</td>\n",
       "      <td>0.881139</td>\n",
       "      <td>0.875122</td>\n",
       "      <td>0.878120</td>\n",
       "      <td>0.776699</td>\n",
       "      <td>0.806723</td>\n",
       "      <td>0.893023</td>\n",
       "      <td>0.847682</td>\n",
       "    </tr>\n",
       "  </tbody>\n",
       "</table>\n",
       "</div>"
      ],
      "text/plain": [
       "                  Train Accuracy  Train Precision  Train Recall  \\\n",
       "Logistic                0.791707         0.816737      0.752195   \n",
       "SVC                     0.803902         0.831736      0.761951   \n",
       "Ridge                   0.800000         0.831715      0.752195   \n",
       "SGD                     0.805366         0.821355      0.780488   \n",
       "KNeighbors              0.777561         0.933029      0.598049   \n",
       "RandomForest            0.999512         1.000000      0.999024   \n",
       "AdaBoost                0.818049         0.831976      0.797073   \n",
       "GradientBoosting        0.882439         0.881323      0.883902   \n",
       "DecisionTree            0.999512         1.000000      0.999024   \n",
       "XGBoost                 0.878537         0.881139      0.875122   \n",
       "\n",
       "                  Train F1 score  Test Accuracy  Test Precision  Test Recall  \\\n",
       "Logistic                0.783139       0.708738        0.827225     0.734884   \n",
       "SVC                     0.795316       0.708738        0.817259     0.748837   \n",
       "Ridge                   0.789959       0.695793        0.827027     0.711628   \n",
       "SGD                     0.800400       0.724919        0.835052     0.753488   \n",
       "KNeighbors              0.728894       0.582524        0.858333     0.479070   \n",
       "RandomForest            0.999512       0.747573        0.791489     0.865116   \n",
       "AdaBoost                0.814150       0.705502        0.792453     0.781395   \n",
       "GradientBoosting        0.882611       0.718447        0.778261     0.832558   \n",
       "DecisionTree            0.999512       0.702265        0.783410     0.790698   \n",
       "XGBoost                 0.878120       0.776699        0.806723     0.893023   \n",
       "\n",
       "                  Test F1 score  \n",
       "Logistic               0.778325  \n",
       "SVC                    0.781553  \n",
       "Ridge                  0.765000  \n",
       "SGD                    0.792176  \n",
       "KNeighbors             0.614925  \n",
       "RandomForest           0.826667  \n",
       "AdaBoost               0.786885  \n",
       "GradientBoosting       0.804494  \n",
       "DecisionTree           0.787037  \n",
       "XGBoost                0.847682  "
      ]
     },
     "execution_count": 52,
     "metadata": {},
     "output_type": "execute_result"
    }
   ],
   "source": [
    "results = pd.DataFrame(index=models.keys(), data={'Train Accuracy': train_acc,\n",
    "                                                  'Train Precision': train_precision,\n",
    "                                                  'Train Recall': train_recall,\n",
    "                                                  'Train F1 score': train_f1_score,\n",
    "                                                  'Test Accuracy': test_acc,\n",
    "                                                  'Test Precision': test_precision,\n",
    "                                                  'Test Recall': test_recall,\n",
    "                                                  'Test F1 score': test_f1_score})\n",
    "results"
   ]
  },
  {
   "cell_type": "code",
   "execution_count": null,
   "id": "2097bdb0",
   "metadata": {},
   "outputs": [],
   "source": [
    "XGBoost\t0.987491\t0.987415\t0.995122\t0.991254\t0.766990\t0.799163\t0.888372\t0.841410"
   ]
  },
  {
   "cell_type": "code",
   "execution_count": 30,
   "id": "6015e11a",
   "metadata": {},
   "outputs": [
    {
     "data": {
      "image/png": "[encoded data removed]",
      "text/plain": [
       "<Figure size 864x1440 with 8 Axes>"
      ]
     },
     "metadata": {
      "needs_background": "light"
     },
     "output_type": "display_data"
    }
   ],
   "source": [
    "fig, axes = plt.subplots(nrows=4, ncols=2, sharex=False, figsize=(12, 20), constrained_layout = True)\n",
    "\n",
    "row=4\n",
    "col=2\n",
    "color_pal = ['RdPu', 'summer_r', 'spring', 'ocean_r']\n",
    "\n",
    "for i in range(row):\n",
    "    for j in range(col):\n",
    "        \n",
    "        if j == 0:\n",
    "            index = i\n",
    "        else:\n",
    "            index = i+4\n",
    "        axes[i, j].bar(results.index, results[results.columns[index]], color=sns.color_palette(color_pal[i], len(results['Test Accuracy'])))\n",
    "        axes[i, j].set_xlabel('Models', size=12)\n",
    "        axes[i, j].set_ylabel(results.columns[index], size=12)\n",
    "        axes[i, j].set_ylim([0, 1.1])\n",
    "        axes[i, j].set_xticklabels(results.index, rotation=45)\n",
    "        axes[i, j].grid(axis='y')\n",
    "\n",
    "plt.show()"
   ]
  },
  {
   "cell_type": "code",
   "execution_count": 31,
   "id": "8b8a6dd2",
   "metadata": {},
   "outputs": [
    {
     "data": {
      "text/plain": [
       "(0.8401667824878388, 0.7637540453074434)"
      ]
     },
     "execution_count": 31,
     "metadata": {},
     "output_type": "execute_result"
    }
   ],
   "source": [
    "bag_clf = BaggingClassifier(base_estimator=models['GradientBoosting'], n_estimators=100)\n",
    "bag_clf.fit(X_train, y_train)\n",
    "bag_clf.score(X_train, y_train), bag_clf.score(X_test, y_test)"
   ]
  },
  {
   "cell_type": "markdown",
   "id": "a520a3bd",
   "metadata": {},
   "source": [
    "## Hyperparameter Tuning"
   ]
  },
  {
   "cell_type": "markdown",
   "id": "83602cf6",
   "metadata": {},
   "source": [
    "From the above visuals which displays `Accuracy`, `Precision`, `Recall`, `F1-Score` on both `Train` and `Test` data, we have observed that `RandomForest` is giving good overall results, so we'll fine tune it to see if we can improve it further."
   ]
  },
  {
   "cell_type": "code",
   "execution_count": 102,
   "id": "af54ab97",
   "metadata": {},
   "outputs": [],
   "source": [
    "from sklearn.model_selection import GridSearchCV"
   ]
  },
  {
   "cell_type": "markdown",
   "id": "7154e6eb",
   "metadata": {},
   "source": [
    "### Bagging Classifier with Logistic"
   ]
  },
  {
   "cell_type": "code",
   "execution_count": 103,
   "id": "f0cfc34e",
   "metadata": {},
   "outputs": [
    {
     "name": "stdout",
     "output_type": "stream",
     "text": [
      "Fitting 2 folds for each of 112 candidates, totalling 224 fits\n"
     ]
    },
    {
     "ename": "KeyboardInterrupt",
     "evalue": "",
     "output_type": "error",
     "traceback": [
      "\u001b[1;31m---------------------------------------------------------------------------\u001b[0m",
      "\u001b[1;31mKeyboardInterrupt\u001b[0m                         Traceback (most recent call last)",
      "\u001b[1;32m<ipython-input-103-767af4f2b133>\u001b[0m in \u001b[0;36m<module>\u001b[1;34m\u001b[0m\n\u001b[0;32m      6\u001b[0m \u001b[1;33m\u001b[0m\u001b[0m\n\u001b[0;32m      7\u001b[0m \u001b[0mgrid_search_bag\u001b[0m \u001b[1;33m=\u001b[0m \u001b[0mGridSearchCV\u001b[0m\u001b[1;33m(\u001b[0m\u001b[0mBaggingClassifier\u001b[0m\u001b[1;33m(\u001b[0m\u001b[1;33m)\u001b[0m\u001b[1;33m,\u001b[0m \u001b[0mparam_grid\u001b[0m\u001b[1;33m=\u001b[0m\u001b[0mbag_params\u001b[0m\u001b[1;33m,\u001b[0m \u001b[0mn_jobs\u001b[0m\u001b[1;33m=\u001b[0m\u001b[1;33m-\u001b[0m\u001b[1;36m1\u001b[0m\u001b[1;33m,\u001b[0m \u001b[0mcv\u001b[0m\u001b[1;33m=\u001b[0m\u001b[1;36m2\u001b[0m\u001b[1;33m,\u001b[0m \u001b[0mverbose\u001b[0m\u001b[1;33m=\u001b[0m\u001b[1;32mTrue\u001b[0m\u001b[1;33m)\u001b[0m\u001b[1;33m\u001b[0m\u001b[1;33m\u001b[0m\u001b[0m\n\u001b[1;32m----> 8\u001b[1;33m \u001b[0mgrid_search_bag\u001b[0m\u001b[1;33m.\u001b[0m\u001b[0mfit\u001b[0m\u001b[1;33m(\u001b[0m\u001b[0mX_train\u001b[0m\u001b[1;33m,\u001b[0m \u001b[0my_train\u001b[0m\u001b[1;33m)\u001b[0m\u001b[1;33m\u001b[0m\u001b[1;33m\u001b[0m\u001b[0m\n\u001b[0m",
      "\u001b[1;32m~\\anaconda3\\lib\\site-packages\\sklearn\\utils\\validation.py\u001b[0m in \u001b[0;36minner_f\u001b[1;34m(*args, **kwargs)\u001b[0m\n\u001b[0;32m     61\u001b[0m             \u001b[0mextra_args\u001b[0m \u001b[1;33m=\u001b[0m \u001b[0mlen\u001b[0m\u001b[1;33m(\u001b[0m\u001b[0margs\u001b[0m\u001b[1;33m)\u001b[0m \u001b[1;33m-\u001b[0m \u001b[0mlen\u001b[0m\u001b[1;33m(\u001b[0m\u001b[0mall_args\u001b[0m\u001b[1;33m)\u001b[0m\u001b[1;33m\u001b[0m\u001b[1;33m\u001b[0m\u001b[0m\n\u001b[0;32m     62\u001b[0m             \u001b[1;32mif\u001b[0m \u001b[0mextra_args\u001b[0m \u001b[1;33m<=\u001b[0m \u001b[1;36m0\u001b[0m\u001b[1;33m:\u001b[0m\u001b[1;33m\u001b[0m\u001b[1;33m\u001b[0m\u001b[0m\n\u001b[1;32m---> 63\u001b[1;33m                 \u001b[1;32mreturn\u001b[0m \u001b[0mf\u001b[0m\u001b[1;33m(\u001b[0m\u001b[1;33m*\u001b[0m\u001b[0margs\u001b[0m\u001b[1;33m,\u001b[0m \u001b[1;33m**\u001b[0m\u001b[0mkwargs\u001b[0m\u001b[1;33m)\u001b[0m\u001b[1;33m\u001b[0m\u001b[1;33m\u001b[0m\u001b[0m\n\u001b[0m\u001b[0;32m     64\u001b[0m \u001b[1;33m\u001b[0m\u001b[0m\n\u001b[0;32m     65\u001b[0m             \u001b[1;31m# extra_args > 0\u001b[0m\u001b[1;33m\u001b[0m\u001b[1;33m\u001b[0m\u001b[1;33m\u001b[0m\u001b[0m\n",
      "\u001b[1;32m~\\anaconda3\\lib\\site-packages\\sklearn\\model_selection\\_search.py\u001b[0m in \u001b[0;36mfit\u001b[1;34m(self, X, y, groups, **fit_params)\u001b[0m\n\u001b[0;32m    839\u001b[0m                 \u001b[1;32mreturn\u001b[0m \u001b[0mresults\u001b[0m\u001b[1;33m\u001b[0m\u001b[1;33m\u001b[0m\u001b[0m\n\u001b[0;32m    840\u001b[0m \u001b[1;33m\u001b[0m\u001b[0m\n\u001b[1;32m--> 841\u001b[1;33m             \u001b[0mself\u001b[0m\u001b[1;33m.\u001b[0m\u001b[0m_run_search\u001b[0m\u001b[1;33m(\u001b[0m\u001b[0mevaluate_candidates\u001b[0m\u001b[1;33m)\u001b[0m\u001b[1;33m\u001b[0m\u001b[1;33m\u001b[0m\u001b[0m\n\u001b[0m\u001b[0;32m    842\u001b[0m \u001b[1;33m\u001b[0m\u001b[0m\n\u001b[0;32m    843\u001b[0m             \u001b[1;31m# multimetric is determined here because in the case of a callable\u001b[0m\u001b[1;33m\u001b[0m\u001b[1;33m\u001b[0m\u001b[1;33m\u001b[0m\u001b[0m\n",
      "\u001b[1;32m~\\anaconda3\\lib\\site-packages\\sklearn\\model_selection\\_search.py\u001b[0m in \u001b[0;36m_run_search\u001b[1;34m(self, evaluate_candidates)\u001b[0m\n\u001b[0;32m   1286\u001b[0m     \u001b[1;32mdef\u001b[0m \u001b[0m_run_search\u001b[0m\u001b[1;33m(\u001b[0m\u001b[0mself\u001b[0m\u001b[1;33m,\u001b[0m \u001b[0mevaluate_candidates\u001b[0m\u001b[1;33m)\u001b[0m\u001b[1;33m:\u001b[0m\u001b[1;33m\u001b[0m\u001b[1;33m\u001b[0m\u001b[0m\n\u001b[0;32m   1287\u001b[0m         \u001b[1;34m\"\"\"Search all candidates in param_grid\"\"\"\u001b[0m\u001b[1;33m\u001b[0m\u001b[1;33m\u001b[0m\u001b[0m\n\u001b[1;32m-> 1288\u001b[1;33m         \u001b[0mevaluate_candidates\u001b[0m\u001b[1;33m(\u001b[0m\u001b[0mParameterGrid\u001b[0m\u001b[1;33m(\u001b[0m\u001b[0mself\u001b[0m\u001b[1;33m.\u001b[0m\u001b[0mparam_grid\u001b[0m\u001b[1;33m)\u001b[0m\u001b[1;33m)\u001b[0m\u001b[1;33m\u001b[0m\u001b[1;33m\u001b[0m\u001b[0m\n\u001b[0m\u001b[0;32m   1289\u001b[0m \u001b[1;33m\u001b[0m\u001b[0m\n\u001b[0;32m   1290\u001b[0m \u001b[1;33m\u001b[0m\u001b[0m\n",
      "\u001b[1;32m~\\anaconda3\\lib\\site-packages\\sklearn\\model_selection\\_search.py\u001b[0m in \u001b[0;36mevaluate_candidates\u001b[1;34m(candidate_params, cv, more_results)\u001b[0m\n\u001b[0;32m    793\u001b[0m                               n_splits, n_candidates, n_candidates * n_splits))\n\u001b[0;32m    794\u001b[0m \u001b[1;33m\u001b[0m\u001b[0m\n\u001b[1;32m--> 795\u001b[1;33m                 out = parallel(delayed(_fit_and_score)(clone(base_estimator),\n\u001b[0m\u001b[0;32m    796\u001b[0m                                                        \u001b[0mX\u001b[0m\u001b[1;33m,\u001b[0m \u001b[0my\u001b[0m\u001b[1;33m,\u001b[0m\u001b[1;33m\u001b[0m\u001b[1;33m\u001b[0m\u001b[0m\n\u001b[0;32m    797\u001b[0m                                                        \u001b[0mtrain\u001b[0m\u001b[1;33m=\u001b[0m\u001b[0mtrain\u001b[0m\u001b[1;33m,\u001b[0m \u001b[0mtest\u001b[0m\u001b[1;33m=\u001b[0m\u001b[0mtest\u001b[0m\u001b[1;33m,\u001b[0m\u001b[1;33m\u001b[0m\u001b[1;33m\u001b[0m\u001b[0m\n",
      "\u001b[1;32m~\\anaconda3\\lib\\site-packages\\joblib\\parallel.py\u001b[0m in \u001b[0;36m__call__\u001b[1;34m(self, iterable)\u001b[0m\n\u001b[0;32m   1052\u001b[0m \u001b[1;33m\u001b[0m\u001b[0m\n\u001b[0;32m   1053\u001b[0m             \u001b[1;32mwith\u001b[0m \u001b[0mself\u001b[0m\u001b[1;33m.\u001b[0m\u001b[0m_backend\u001b[0m\u001b[1;33m.\u001b[0m\u001b[0mretrieval_context\u001b[0m\u001b[1;33m(\u001b[0m\u001b[1;33m)\u001b[0m\u001b[1;33m:\u001b[0m\u001b[1;33m\u001b[0m\u001b[1;33m\u001b[0m\u001b[0m\n\u001b[1;32m-> 1054\u001b[1;33m                 \u001b[0mself\u001b[0m\u001b[1;33m.\u001b[0m\u001b[0mretrieve\u001b[0m\u001b[1;33m(\u001b[0m\u001b[1;33m)\u001b[0m\u001b[1;33m\u001b[0m\u001b[1;33m\u001b[0m\u001b[0m\n\u001b[0m\u001b[0;32m   1055\u001b[0m             \u001b[1;31m# Make sure that we get a last message telling us we are done\u001b[0m\u001b[1;33m\u001b[0m\u001b[1;33m\u001b[0m\u001b[1;33m\u001b[0m\u001b[0m\n\u001b[0;32m   1056\u001b[0m             \u001b[0melapsed_time\u001b[0m \u001b[1;33m=\u001b[0m \u001b[0mtime\u001b[0m\u001b[1;33m.\u001b[0m\u001b[0mtime\u001b[0m\u001b[1;33m(\u001b[0m\u001b[1;33m)\u001b[0m \u001b[1;33m-\u001b[0m \u001b[0mself\u001b[0m\u001b[1;33m.\u001b[0m\u001b[0m_start_time\u001b[0m\u001b[1;33m\u001b[0m\u001b[1;33m\u001b[0m\u001b[0m\n",
      "\u001b[1;32m~\\anaconda3\\lib\\site-packages\\joblib\\parallel.py\u001b[0m in \u001b[0;36mretrieve\u001b[1;34m(self)\u001b[0m\n\u001b[0;32m    931\u001b[0m             \u001b[1;32mtry\u001b[0m\u001b[1;33m:\u001b[0m\u001b[1;33m\u001b[0m\u001b[1;33m\u001b[0m\u001b[0m\n\u001b[0;32m    932\u001b[0m                 \u001b[1;32mif\u001b[0m \u001b[0mgetattr\u001b[0m\u001b[1;33m(\u001b[0m\u001b[0mself\u001b[0m\u001b[1;33m.\u001b[0m\u001b[0m_backend\u001b[0m\u001b[1;33m,\u001b[0m \u001b[1;34m'supports_timeout'\u001b[0m\u001b[1;33m,\u001b[0m \u001b[1;32mFalse\u001b[0m\u001b[1;33m)\u001b[0m\u001b[1;33m:\u001b[0m\u001b[1;33m\u001b[0m\u001b[1;33m\u001b[0m\u001b[0m\n\u001b[1;32m--> 933\u001b[1;33m                     \u001b[0mself\u001b[0m\u001b[1;33m.\u001b[0m\u001b[0m_output\u001b[0m\u001b[1;33m.\u001b[0m\u001b[0mextend\u001b[0m\u001b[1;33m(\u001b[0m\u001b[0mjob\u001b[0m\u001b[1;33m.\u001b[0m\u001b[0mget\u001b[0m\u001b[1;33m(\u001b[0m\u001b[0mtimeout\u001b[0m\u001b[1;33m=\u001b[0m\u001b[0mself\u001b[0m\u001b[1;33m.\u001b[0m\u001b[0mtimeout\u001b[0m\u001b[1;33m)\u001b[0m\u001b[1;33m)\u001b[0m\u001b[1;33m\u001b[0m\u001b[1;33m\u001b[0m\u001b[0m\n\u001b[0m\u001b[0;32m    934\u001b[0m                 \u001b[1;32melse\u001b[0m\u001b[1;33m:\u001b[0m\u001b[1;33m\u001b[0m\u001b[1;33m\u001b[0m\u001b[0m\n\u001b[0;32m    935\u001b[0m                     \u001b[0mself\u001b[0m\u001b[1;33m.\u001b[0m\u001b[0m_output\u001b[0m\u001b[1;33m.\u001b[0m\u001b[0mextend\u001b[0m\u001b[1;33m(\u001b[0m\u001b[0mjob\u001b[0m\u001b[1;33m.\u001b[0m\u001b[0mget\u001b[0m\u001b[1;33m(\u001b[0m\u001b[1;33m)\u001b[0m\u001b[1;33m)\u001b[0m\u001b[1;33m\u001b[0m\u001b[1;33m\u001b[0m\u001b[0m\n",
      "\u001b[1;32m~\\anaconda3\\lib\\site-packages\\joblib\\_parallel_backends.py\u001b[0m in \u001b[0;36mwrap_future_result\u001b[1;34m(future, timeout)\u001b[0m\n\u001b[0;32m    540\u001b[0m         AsyncResults.get from multiprocessing.\"\"\"\n\u001b[0;32m    541\u001b[0m         \u001b[1;32mtry\u001b[0m\u001b[1;33m:\u001b[0m\u001b[1;33m\u001b[0m\u001b[1;33m\u001b[0m\u001b[0m\n\u001b[1;32m--> 542\u001b[1;33m             \u001b[1;32mreturn\u001b[0m \u001b[0mfuture\u001b[0m\u001b[1;33m.\u001b[0m\u001b[0mresult\u001b[0m\u001b[1;33m(\u001b[0m\u001b[0mtimeout\u001b[0m\u001b[1;33m=\u001b[0m\u001b[0mtimeout\u001b[0m\u001b[1;33m)\u001b[0m\u001b[1;33m\u001b[0m\u001b[1;33m\u001b[0m\u001b[0m\n\u001b[0m\u001b[0;32m    543\u001b[0m         \u001b[1;32mexcept\u001b[0m \u001b[0mCfTimeoutError\u001b[0m \u001b[1;32mas\u001b[0m \u001b[0me\u001b[0m\u001b[1;33m:\u001b[0m\u001b[1;33m\u001b[0m\u001b[1;33m\u001b[0m\u001b[0m\n\u001b[0;32m    544\u001b[0m             \u001b[1;32mraise\u001b[0m \u001b[0mTimeoutError\u001b[0m \u001b[1;32mfrom\u001b[0m \u001b[0me\u001b[0m\u001b[1;33m\u001b[0m\u001b[1;33m\u001b[0m\u001b[0m\n",
      "\u001b[1;32m~\\anaconda3\\lib\\concurrent\\futures\\_base.py\u001b[0m in \u001b[0;36mresult\u001b[1;34m(self, timeout)\u001b[0m\n\u001b[0;32m    432\u001b[0m                 \u001b[1;32mreturn\u001b[0m \u001b[0mself\u001b[0m\u001b[1;33m.\u001b[0m\u001b[0m__get_result\u001b[0m\u001b[1;33m(\u001b[0m\u001b[1;33m)\u001b[0m\u001b[1;33m\u001b[0m\u001b[1;33m\u001b[0m\u001b[0m\n\u001b[0;32m    433\u001b[0m \u001b[1;33m\u001b[0m\u001b[0m\n\u001b[1;32m--> 434\u001b[1;33m             \u001b[0mself\u001b[0m\u001b[1;33m.\u001b[0m\u001b[0m_condition\u001b[0m\u001b[1;33m.\u001b[0m\u001b[0mwait\u001b[0m\u001b[1;33m(\u001b[0m\u001b[0mtimeout\u001b[0m\u001b[1;33m)\u001b[0m\u001b[1;33m\u001b[0m\u001b[1;33m\u001b[0m\u001b[0m\n\u001b[0m\u001b[0;32m    435\u001b[0m \u001b[1;33m\u001b[0m\u001b[0m\n\u001b[0;32m    436\u001b[0m             \u001b[1;32mif\u001b[0m \u001b[0mself\u001b[0m\u001b[1;33m.\u001b[0m\u001b[0m_state\u001b[0m \u001b[1;32min\u001b[0m \u001b[1;33m[\u001b[0m\u001b[0mCANCELLED\u001b[0m\u001b[1;33m,\u001b[0m \u001b[0mCANCELLED_AND_NOTIFIED\u001b[0m\u001b[1;33m]\u001b[0m\u001b[1;33m:\u001b[0m\u001b[1;33m\u001b[0m\u001b[1;33m\u001b[0m\u001b[0m\n",
      "\u001b[1;32m~\\anaconda3\\lib\\threading.py\u001b[0m in \u001b[0;36mwait\u001b[1;34m(self, timeout)\u001b[0m\n\u001b[0;32m    300\u001b[0m         \u001b[1;32mtry\u001b[0m\u001b[1;33m:\u001b[0m    \u001b[1;31m# restore state no matter what (e.g., KeyboardInterrupt)\u001b[0m\u001b[1;33m\u001b[0m\u001b[1;33m\u001b[0m\u001b[0m\n\u001b[0;32m    301\u001b[0m             \u001b[1;32mif\u001b[0m \u001b[0mtimeout\u001b[0m \u001b[1;32mis\u001b[0m \u001b[1;32mNone\u001b[0m\u001b[1;33m:\u001b[0m\u001b[1;33m\u001b[0m\u001b[1;33m\u001b[0m\u001b[0m\n\u001b[1;32m--> 302\u001b[1;33m                 \u001b[0mwaiter\u001b[0m\u001b[1;33m.\u001b[0m\u001b[0macquire\u001b[0m\u001b[1;33m(\u001b[0m\u001b[1;33m)\u001b[0m\u001b[1;33m\u001b[0m\u001b[1;33m\u001b[0m\u001b[0m\n\u001b[0m\u001b[0;32m    303\u001b[0m                 \u001b[0mgotit\u001b[0m \u001b[1;33m=\u001b[0m \u001b[1;32mTrue\u001b[0m\u001b[1;33m\u001b[0m\u001b[1;33m\u001b[0m\u001b[0m\n\u001b[0;32m    304\u001b[0m             \u001b[1;32melse\u001b[0m\u001b[1;33m:\u001b[0m\u001b[1;33m\u001b[0m\u001b[1;33m\u001b[0m\u001b[0m\n",
      "\u001b[1;31mKeyboardInterrupt\u001b[0m: "
     ]
    }
   ],
   "source": [
    "bag_params = {'base_estimator': [models['Logistic']],\n",
    "              'n_estimators': [10, 25, 50, 100, 200, 500, 1000],\n",
    "              'max_samples': [1, 10, 50, 100],\n",
    "              'bootstrap_features': [True, False],\n",
    "              'bootstrap': [True, False]}\n",
    "\n",
    "grid_search_bag = GridSearchCV(BaggingClassifier(), param_grid=bag_params, n_jobs=-1, cv=2, verbose=True)\n",
    "grid_search_bag.fit(X_train, y_train)"
   ]
  },
  {
   "cell_type": "code",
   "execution_count": 42,
   "id": "92a2f650",
   "metadata": {},
   "outputs": [
    {
     "name": "stdout",
     "output_type": "stream",
     "text": [
      "Grid Search score on train set:  0.7567755385684504\n",
      "Grid Search score on test set:  0.7443365695792881\n"
     ]
    }
   ],
   "source": [
    "print('Grid Search score on train set: ', grid_search_bag.score(X_train, y_train))\n",
    "print('Grid Search score on test set: ', grid_search_bag.score(X_test, y_test))"
   ]
  },
  {
   "cell_type": "markdown",
   "id": "b48ee41b",
   "metadata": {},
   "source": [
    "### Bagging Classifier with Random Forest"
   ]
  },
  {
   "cell_type": "code",
   "execution_count": null,
   "id": "dab2d348",
   "metadata": {},
   "outputs": [
    {
     "name": "stdout",
     "output_type": "stream",
     "text": [
      "Fitting 2 folds for each of 112 candidates, totalling 224 fits\n"
     ]
    }
   ],
   "source": [
    "bag_params2 = {'base_estimator': [models['RandomForest']],\n",
    "              'n_estimators': [10, 25, 50, 100, 200, 500, 1000],\n",
    "              'max_samples': [1, 10, 50, 100],\n",
    "              'bootstrap_features': [True, False],\n",
    "              'bootstrap': [True, False]}\n",
    "\n",
    "grid_search_bag2 = GridSearchCV(BaggingClassifier(), param_grid=bag_params2, n_jobs=-1, cv=2, verbose=True)\n",
    "grid_search_bag2.fit(X_train, y_train)"
   ]
  },
  {
   "cell_type": "code",
   "execution_count": null,
   "id": "103dce7d",
   "metadata": {},
   "outputs": [],
   "source": [
    "print('Grid Search score on train set: ', grid_search_bag2.score(X_train, y_train))\n",
    "print('Grid Search score on test set: ', grid_search_bag2.score(X_test, y_test))"
   ]
  },
  {
   "cell_type": "markdown",
   "id": "bab57dcd",
   "metadata": {},
   "source": [
    "### Bagging Classifier with Gradient Boosting"
   ]
  },
  {
   "cell_type": "code",
   "execution_count": null,
   "id": "da82ad37",
   "metadata": {},
   "outputs": [],
   "source": [
    "bag_params3 = {'base_estimator': [models['GradientBoosting']],\n",
    "              'n_estimators': [10, 25, 50, 100, 200, 500, 1000],\n",
    "              'max_samples': [1, 10, 50, 100],\n",
    "              'bootstrap_features': [True, False],\n",
    "              'bootstrap': [True, False]}\n",
    "\n",
    "grid_search_bag3 = GridSearchCV(BaggingClassifier(), param_grid=bag_params3, n_jobs=-1, cv=2, verbose=True)\n",
    "grid_search_bag3.fit(X_train, y_train)"
   ]
  },
  {
   "cell_type": "code",
   "execution_count": null,
   "id": "5221640e",
   "metadata": {},
   "outputs": [],
   "source": [
    "print('Grid Search score on train set: ', grid_search_bag3.score(X_train, y_train))\n",
    "print('Grid Search score on test set: ', grid_search_bag3.score(X_test, y_test))"
   ]
  },
  {
   "cell_type": "markdown",
   "id": "489d33c3",
   "metadata": {},
   "source": [
    "### Bagging Classifer with XGBoost"
   ]
  },
  {
   "cell_type": "code",
   "execution_count": 104,
   "id": "93897b17",
   "metadata": {},
   "outputs": [
    {
     "name": "stdout",
     "output_type": "stream",
     "text": [
      "Fitting 2 folds for each of 112 candidates, totalling 224 fits\n"
     ]
    },
    {
     "ename": "KeyboardInterrupt",
     "evalue": "",
     "output_type": "error",
     "traceback": [
      "\u001b[1;31m---------------------------------------------------------------------------\u001b[0m",
      "\u001b[1;31mKeyboardInterrupt\u001b[0m                         Traceback (most recent call last)",
      "\u001b[1;32m<ipython-input-104-0fe068d015ed>\u001b[0m in \u001b[0;36m<module>\u001b[1;34m\u001b[0m\n\u001b[0;32m      6\u001b[0m \u001b[1;33m\u001b[0m\u001b[0m\n\u001b[0;32m      7\u001b[0m \u001b[0mgrid_search_bag4\u001b[0m \u001b[1;33m=\u001b[0m \u001b[0mGridSearchCV\u001b[0m\u001b[1;33m(\u001b[0m\u001b[0mBaggingClassifier\u001b[0m\u001b[1;33m(\u001b[0m\u001b[1;33m)\u001b[0m\u001b[1;33m,\u001b[0m \u001b[0mparam_grid\u001b[0m\u001b[1;33m=\u001b[0m\u001b[0mbag_params4\u001b[0m\u001b[1;33m,\u001b[0m \u001b[0mn_jobs\u001b[0m\u001b[1;33m=\u001b[0m\u001b[1;33m-\u001b[0m\u001b[1;36m1\u001b[0m\u001b[1;33m,\u001b[0m \u001b[0mcv\u001b[0m\u001b[1;33m=\u001b[0m\u001b[1;36m2\u001b[0m\u001b[1;33m,\u001b[0m \u001b[0mverbose\u001b[0m\u001b[1;33m=\u001b[0m\u001b[1;32mTrue\u001b[0m\u001b[1;33m)\u001b[0m\u001b[1;33m\u001b[0m\u001b[1;33m\u001b[0m\u001b[0m\n\u001b[1;32m----> 8\u001b[1;33m \u001b[0mgrid_search_bag4\u001b[0m\u001b[1;33m.\u001b[0m\u001b[0mfit\u001b[0m\u001b[1;33m(\u001b[0m\u001b[0mX_train\u001b[0m\u001b[1;33m,\u001b[0m \u001b[0my_train\u001b[0m\u001b[1;33m)\u001b[0m\u001b[1;33m\u001b[0m\u001b[1;33m\u001b[0m\u001b[0m\n\u001b[0m",
      "\u001b[1;32m~\\anaconda3\\lib\\site-packages\\sklearn\\utils\\validation.py\u001b[0m in \u001b[0;36minner_f\u001b[1;34m(*args, **kwargs)\u001b[0m\n\u001b[0;32m     61\u001b[0m             \u001b[0mextra_args\u001b[0m \u001b[1;33m=\u001b[0m \u001b[0mlen\u001b[0m\u001b[1;33m(\u001b[0m\u001b[0margs\u001b[0m\u001b[1;33m)\u001b[0m \u001b[1;33m-\u001b[0m \u001b[0mlen\u001b[0m\u001b[1;33m(\u001b[0m\u001b[0mall_args\u001b[0m\u001b[1;33m)\u001b[0m\u001b[1;33m\u001b[0m\u001b[1;33m\u001b[0m\u001b[0m\n\u001b[0;32m     62\u001b[0m             \u001b[1;32mif\u001b[0m \u001b[0mextra_args\u001b[0m \u001b[1;33m<=\u001b[0m \u001b[1;36m0\u001b[0m\u001b[1;33m:\u001b[0m\u001b[1;33m\u001b[0m\u001b[1;33m\u001b[0m\u001b[0m\n\u001b[1;32m---> 63\u001b[1;33m                 \u001b[1;32mreturn\u001b[0m \u001b[0mf\u001b[0m\u001b[1;33m(\u001b[0m\u001b[1;33m*\u001b[0m\u001b[0margs\u001b[0m\u001b[1;33m,\u001b[0m \u001b[1;33m**\u001b[0m\u001b[0mkwargs\u001b[0m\u001b[1;33m)\u001b[0m\u001b[1;33m\u001b[0m\u001b[1;33m\u001b[0m\u001b[0m\n\u001b[0m\u001b[0;32m     64\u001b[0m \u001b[1;33m\u001b[0m\u001b[0m\n\u001b[0;32m     65\u001b[0m             \u001b[1;31m# extra_args > 0\u001b[0m\u001b[1;33m\u001b[0m\u001b[1;33m\u001b[0m\u001b[1;33m\u001b[0m\u001b[0m\n",
      "\u001b[1;32m~\\anaconda3\\lib\\site-packages\\sklearn\\model_selection\\_search.py\u001b[0m in \u001b[0;36mfit\u001b[1;34m(self, X, y, groups, **fit_params)\u001b[0m\n\u001b[0;32m    839\u001b[0m                 \u001b[1;32mreturn\u001b[0m \u001b[0mresults\u001b[0m\u001b[1;33m\u001b[0m\u001b[1;33m\u001b[0m\u001b[0m\n\u001b[0;32m    840\u001b[0m \u001b[1;33m\u001b[0m\u001b[0m\n\u001b[1;32m--> 841\u001b[1;33m             \u001b[0mself\u001b[0m\u001b[1;33m.\u001b[0m\u001b[0m_run_search\u001b[0m\u001b[1;33m(\u001b[0m\u001b[0mevaluate_candidates\u001b[0m\u001b[1;33m)\u001b[0m\u001b[1;33m\u001b[0m\u001b[1;33m\u001b[0m\u001b[0m\n\u001b[0m\u001b[0;32m    842\u001b[0m \u001b[1;33m\u001b[0m\u001b[0m\n\u001b[0;32m    843\u001b[0m             \u001b[1;31m# multimetric is determined here because in the case of a callable\u001b[0m\u001b[1;33m\u001b[0m\u001b[1;33m\u001b[0m\u001b[1;33m\u001b[0m\u001b[0m\n",
      "\u001b[1;32m~\\anaconda3\\lib\\site-packages\\sklearn\\model_selection\\_search.py\u001b[0m in \u001b[0;36m_run_search\u001b[1;34m(self, evaluate_candidates)\u001b[0m\n\u001b[0;32m   1286\u001b[0m     \u001b[1;32mdef\u001b[0m \u001b[0m_run_search\u001b[0m\u001b[1;33m(\u001b[0m\u001b[0mself\u001b[0m\u001b[1;33m,\u001b[0m \u001b[0mevaluate_candidates\u001b[0m\u001b[1;33m)\u001b[0m\u001b[1;33m:\u001b[0m\u001b[1;33m\u001b[0m\u001b[1;33m\u001b[0m\u001b[0m\n\u001b[0;32m   1287\u001b[0m         \u001b[1;34m\"\"\"Search all candidates in param_grid\"\"\"\u001b[0m\u001b[1;33m\u001b[0m\u001b[1;33m\u001b[0m\u001b[0m\n\u001b[1;32m-> 1288\u001b[1;33m         \u001b[0mevaluate_candidates\u001b[0m\u001b[1;33m(\u001b[0m\u001b[0mParameterGrid\u001b[0m\u001b[1;33m(\u001b[0m\u001b[0mself\u001b[0m\u001b[1;33m.\u001b[0m\u001b[0mparam_grid\u001b[0m\u001b[1;33m)\u001b[0m\u001b[1;33m)\u001b[0m\u001b[1;33m\u001b[0m\u001b[1;33m\u001b[0m\u001b[0m\n\u001b[0m\u001b[0;32m   1289\u001b[0m \u001b[1;33m\u001b[0m\u001b[0m\n\u001b[0;32m   1290\u001b[0m \u001b[1;33m\u001b[0m\u001b[0m\n",
      "\u001b[1;32m~\\anaconda3\\lib\\site-packages\\sklearn\\model_selection\\_search.py\u001b[0m in \u001b[0;36mevaluate_candidates\u001b[1;34m(candidate_params, cv, more_results)\u001b[0m\n\u001b[0;32m    793\u001b[0m                               n_splits, n_candidates, n_candidates * n_splits))\n\u001b[0;32m    794\u001b[0m \u001b[1;33m\u001b[0m\u001b[0m\n\u001b[1;32m--> 795\u001b[1;33m                 out = parallel(delayed(_fit_and_score)(clone(base_estimator),\n\u001b[0m\u001b[0;32m    796\u001b[0m                                                        \u001b[0mX\u001b[0m\u001b[1;33m,\u001b[0m \u001b[0my\u001b[0m\u001b[1;33m,\u001b[0m\u001b[1;33m\u001b[0m\u001b[1;33m\u001b[0m\u001b[0m\n\u001b[0;32m    797\u001b[0m                                                        \u001b[0mtrain\u001b[0m\u001b[1;33m=\u001b[0m\u001b[0mtrain\u001b[0m\u001b[1;33m,\u001b[0m \u001b[0mtest\u001b[0m\u001b[1;33m=\u001b[0m\u001b[0mtest\u001b[0m\u001b[1;33m,\u001b[0m\u001b[1;33m\u001b[0m\u001b[1;33m\u001b[0m\u001b[0m\n",
      "\u001b[1;32m~\\anaconda3\\lib\\site-packages\\joblib\\parallel.py\u001b[0m in \u001b[0;36m__call__\u001b[1;34m(self, iterable)\u001b[0m\n\u001b[0;32m   1052\u001b[0m \u001b[1;33m\u001b[0m\u001b[0m\n\u001b[0;32m   1053\u001b[0m             \u001b[1;32mwith\u001b[0m \u001b[0mself\u001b[0m\u001b[1;33m.\u001b[0m\u001b[0m_backend\u001b[0m\u001b[1;33m.\u001b[0m\u001b[0mretrieval_context\u001b[0m\u001b[1;33m(\u001b[0m\u001b[1;33m)\u001b[0m\u001b[1;33m:\u001b[0m\u001b[1;33m\u001b[0m\u001b[1;33m\u001b[0m\u001b[0m\n\u001b[1;32m-> 1054\u001b[1;33m                 \u001b[0mself\u001b[0m\u001b[1;33m.\u001b[0m\u001b[0mretrieve\u001b[0m\u001b[1;33m(\u001b[0m\u001b[1;33m)\u001b[0m\u001b[1;33m\u001b[0m\u001b[1;33m\u001b[0m\u001b[0m\n\u001b[0m\u001b[0;32m   1055\u001b[0m             \u001b[1;31m# Make sure that we get a last message telling us we are done\u001b[0m\u001b[1;33m\u001b[0m\u001b[1;33m\u001b[0m\u001b[1;33m\u001b[0m\u001b[0m\n\u001b[0;32m   1056\u001b[0m             \u001b[0melapsed_time\u001b[0m \u001b[1;33m=\u001b[0m \u001b[0mtime\u001b[0m\u001b[1;33m.\u001b[0m\u001b[0mtime\u001b[0m\u001b[1;33m(\u001b[0m\u001b[1;33m)\u001b[0m \u001b[1;33m-\u001b[0m \u001b[0mself\u001b[0m\u001b[1;33m.\u001b[0m\u001b[0m_start_time\u001b[0m\u001b[1;33m\u001b[0m\u001b[1;33m\u001b[0m\u001b[0m\n",
      "\u001b[1;32m~\\anaconda3\\lib\\site-packages\\joblib\\parallel.py\u001b[0m in \u001b[0;36mretrieve\u001b[1;34m(self)\u001b[0m\n\u001b[0;32m    931\u001b[0m             \u001b[1;32mtry\u001b[0m\u001b[1;33m:\u001b[0m\u001b[1;33m\u001b[0m\u001b[1;33m\u001b[0m\u001b[0m\n\u001b[0;32m    932\u001b[0m                 \u001b[1;32mif\u001b[0m \u001b[0mgetattr\u001b[0m\u001b[1;33m(\u001b[0m\u001b[0mself\u001b[0m\u001b[1;33m.\u001b[0m\u001b[0m_backend\u001b[0m\u001b[1;33m,\u001b[0m \u001b[1;34m'supports_timeout'\u001b[0m\u001b[1;33m,\u001b[0m \u001b[1;32mFalse\u001b[0m\u001b[1;33m)\u001b[0m\u001b[1;33m:\u001b[0m\u001b[1;33m\u001b[0m\u001b[1;33m\u001b[0m\u001b[0m\n\u001b[1;32m--> 933\u001b[1;33m                     \u001b[0mself\u001b[0m\u001b[1;33m.\u001b[0m\u001b[0m_output\u001b[0m\u001b[1;33m.\u001b[0m\u001b[0mextend\u001b[0m\u001b[1;33m(\u001b[0m\u001b[0mjob\u001b[0m\u001b[1;33m.\u001b[0m\u001b[0mget\u001b[0m\u001b[1;33m(\u001b[0m\u001b[0mtimeout\u001b[0m\u001b[1;33m=\u001b[0m\u001b[0mself\u001b[0m\u001b[1;33m.\u001b[0m\u001b[0mtimeout\u001b[0m\u001b[1;33m)\u001b[0m\u001b[1;33m)\u001b[0m\u001b[1;33m\u001b[0m\u001b[1;33m\u001b[0m\u001b[0m\n\u001b[0m\u001b[0;32m    934\u001b[0m                 \u001b[1;32melse\u001b[0m\u001b[1;33m:\u001b[0m\u001b[1;33m\u001b[0m\u001b[1;33m\u001b[0m\u001b[0m\n\u001b[0;32m    935\u001b[0m                     \u001b[0mself\u001b[0m\u001b[1;33m.\u001b[0m\u001b[0m_output\u001b[0m\u001b[1;33m.\u001b[0m\u001b[0mextend\u001b[0m\u001b[1;33m(\u001b[0m\u001b[0mjob\u001b[0m\u001b[1;33m.\u001b[0m\u001b[0mget\u001b[0m\u001b[1;33m(\u001b[0m\u001b[1;33m)\u001b[0m\u001b[1;33m)\u001b[0m\u001b[1;33m\u001b[0m\u001b[1;33m\u001b[0m\u001b[0m\n",
      "\u001b[1;32m~\\anaconda3\\lib\\site-packages\\joblib\\_parallel_backends.py\u001b[0m in \u001b[0;36mwrap_future_result\u001b[1;34m(future, timeout)\u001b[0m\n\u001b[0;32m    540\u001b[0m         AsyncResults.get from multiprocessing.\"\"\"\n\u001b[0;32m    541\u001b[0m         \u001b[1;32mtry\u001b[0m\u001b[1;33m:\u001b[0m\u001b[1;33m\u001b[0m\u001b[1;33m\u001b[0m\u001b[0m\n\u001b[1;32m--> 542\u001b[1;33m             \u001b[1;32mreturn\u001b[0m \u001b[0mfuture\u001b[0m\u001b[1;33m.\u001b[0m\u001b[0mresult\u001b[0m\u001b[1;33m(\u001b[0m\u001b[0mtimeout\u001b[0m\u001b[1;33m=\u001b[0m\u001b[0mtimeout\u001b[0m\u001b[1;33m)\u001b[0m\u001b[1;33m\u001b[0m\u001b[1;33m\u001b[0m\u001b[0m\n\u001b[0m\u001b[0;32m    543\u001b[0m         \u001b[1;32mexcept\u001b[0m \u001b[0mCfTimeoutError\u001b[0m \u001b[1;32mas\u001b[0m \u001b[0me\u001b[0m\u001b[1;33m:\u001b[0m\u001b[1;33m\u001b[0m\u001b[1;33m\u001b[0m\u001b[0m\n\u001b[0;32m    544\u001b[0m             \u001b[1;32mraise\u001b[0m \u001b[0mTimeoutError\u001b[0m \u001b[1;32mfrom\u001b[0m \u001b[0me\u001b[0m\u001b[1;33m\u001b[0m\u001b[1;33m\u001b[0m\u001b[0m\n",
      "\u001b[1;32m~\\anaconda3\\lib\\concurrent\\futures\\_base.py\u001b[0m in \u001b[0;36mresult\u001b[1;34m(self, timeout)\u001b[0m\n\u001b[0;32m    432\u001b[0m                 \u001b[1;32mreturn\u001b[0m \u001b[0mself\u001b[0m\u001b[1;33m.\u001b[0m\u001b[0m__get_result\u001b[0m\u001b[1;33m(\u001b[0m\u001b[1;33m)\u001b[0m\u001b[1;33m\u001b[0m\u001b[1;33m\u001b[0m\u001b[0m\n\u001b[0;32m    433\u001b[0m \u001b[1;33m\u001b[0m\u001b[0m\n\u001b[1;32m--> 434\u001b[1;33m             \u001b[0mself\u001b[0m\u001b[1;33m.\u001b[0m\u001b[0m_condition\u001b[0m\u001b[1;33m.\u001b[0m\u001b[0mwait\u001b[0m\u001b[1;33m(\u001b[0m\u001b[0mtimeout\u001b[0m\u001b[1;33m)\u001b[0m\u001b[1;33m\u001b[0m\u001b[1;33m\u001b[0m\u001b[0m\n\u001b[0m\u001b[0;32m    435\u001b[0m \u001b[1;33m\u001b[0m\u001b[0m\n\u001b[0;32m    436\u001b[0m             \u001b[1;32mif\u001b[0m \u001b[0mself\u001b[0m\u001b[1;33m.\u001b[0m\u001b[0m_state\u001b[0m \u001b[1;32min\u001b[0m \u001b[1;33m[\u001b[0m\u001b[0mCANCELLED\u001b[0m\u001b[1;33m,\u001b[0m \u001b[0mCANCELLED_AND_NOTIFIED\u001b[0m\u001b[1;33m]\u001b[0m\u001b[1;33m:\u001b[0m\u001b[1;33m\u001b[0m\u001b[1;33m\u001b[0m\u001b[0m\n",
      "\u001b[1;32m~\\anaconda3\\lib\\threading.py\u001b[0m in \u001b[0;36mwait\u001b[1;34m(self, timeout)\u001b[0m\n\u001b[0;32m    300\u001b[0m         \u001b[1;32mtry\u001b[0m\u001b[1;33m:\u001b[0m    \u001b[1;31m# restore state no matter what (e.g., KeyboardInterrupt)\u001b[0m\u001b[1;33m\u001b[0m\u001b[1;33m\u001b[0m\u001b[0m\n\u001b[0;32m    301\u001b[0m             \u001b[1;32mif\u001b[0m \u001b[0mtimeout\u001b[0m \u001b[1;32mis\u001b[0m \u001b[1;32mNone\u001b[0m\u001b[1;33m:\u001b[0m\u001b[1;33m\u001b[0m\u001b[1;33m\u001b[0m\u001b[0m\n\u001b[1;32m--> 302\u001b[1;33m                 \u001b[0mwaiter\u001b[0m\u001b[1;33m.\u001b[0m\u001b[0macquire\u001b[0m\u001b[1;33m(\u001b[0m\u001b[1;33m)\u001b[0m\u001b[1;33m\u001b[0m\u001b[1;33m\u001b[0m\u001b[0m\n\u001b[0m\u001b[0;32m    303\u001b[0m                 \u001b[0mgotit\u001b[0m \u001b[1;33m=\u001b[0m \u001b[1;32mTrue\u001b[0m\u001b[1;33m\u001b[0m\u001b[1;33m\u001b[0m\u001b[0m\n\u001b[0;32m    304\u001b[0m             \u001b[1;32melse\u001b[0m\u001b[1;33m:\u001b[0m\u001b[1;33m\u001b[0m\u001b[1;33m\u001b[0m\u001b[0m\n",
      "\u001b[1;31mKeyboardInterrupt\u001b[0m: "
     ]
    }
   ],
   "source": [
    "bag_params4 = {'base_estimator': [models['XGBoost']],\n",
    "              'n_estimators': [10, 25, 50, 100, 200, 500, 1000],\n",
    "              'max_samples': [1, 10, 50, 100],\n",
    "              'bootstrap_features': [True, False],\n",
    "              'bootstrap': [True, False]}\n",
    "\n",
    "grid_search_bag4 = GridSearchCV(BaggingClassifier(), param_grid=bag_params4, n_jobs=-1, cv=2, verbose=True)\n",
    "grid_search_bag4.fit(X_train, y_train)"
   ]
  },
  {
   "cell_type": "code",
   "execution_count": null,
   "id": "65e7d6f9",
   "metadata": {},
   "outputs": [],
   "source": [
    "print('Grid Search score on train set: ', grid_search_bag4.score(X_train, y_train))\n",
    "print('Grid Search score on test set: ', grid_search_bag4.score(X_test, y_test))"
   ]
  },
  {
   "cell_type": "markdown",
   "id": "9721cfad",
   "metadata": {},
   "source": [
    "### ANN (Artificial Neural Network)"
   ]
  },
  {
   "cell_type": "code",
   "execution_count": 110,
   "id": "d044908c",
   "metadata": {},
   "outputs": [],
   "source": [
    "import tensorflow as tf\n",
    "from tensorflow import keras\n",
    "\n",
    "tf_model = keras.models.Sequential()\n",
    "tf_model.add(keras.layers.Input(shape=(None, X.shape[1])))\n",
    "tf_model.add(keras.layers.Dense(512, activation='relu'))\n",
    "tf_model.add(keras.layers.Dense(256, activation='relu'))\n",
    "tf_model.add(keras.layers.Dense(128, activation='relu'))\n",
    "tf_model.add(keras.layers.Dense(64, activation='relu'))\n",
    "tf_model.add(keras.layers.Dense(1, activation='sigmoid'))"
   ]
  },
  {
   "cell_type": "markdown",
   "id": "3f69e1fa",
   "metadata": {},
   "source": [
    "### Summary of Model"
   ]
  },
  {
   "cell_type": "code",
   "execution_count": 111,
   "id": "abf88c60",
   "metadata": {},
   "outputs": [
    {
     "name": "stdout",
     "output_type": "stream",
     "text": [
      "Model: \"sequential_8\"\n",
      "_________________________________________________________________\n",
      " Layer (type)                Output Shape              Param #   \n",
      "=================================================================\n",
      " dense_23 (Dense)            (None, None, 512)         111104    \n",
      "                                                                 \n",
      " dense_24 (Dense)            (None, None, 256)         131328    \n",
      "                                                                 \n",
      " dense_25 (Dense)            (None, None, 128)         32896     \n",
      "                                                                 \n",
      " dense_26 (Dense)            (None, None, 64)          8256      \n",
      "                                                                 \n",
      " dense_27 (Dense)            (None, None, 1)           65        \n",
      "                                                                 \n",
      "=================================================================\n",
      "Total params: 283,649\n",
      "Trainable params: 283,649\n",
      "Non-trainable params: 0\n",
      "_________________________________________________________________\n"
     ]
    }
   ],
   "source": [
    "# You can get the summary of model by calling summary() on it.\n",
    "\n",
    "tf_model.summary()"
   ]
  },
  {
   "cell_type": "code",
   "execution_count": 112,
   "id": "57a0cad4",
   "metadata": {},
   "outputs": [],
   "source": [
    "tf_model.compile(loss=keras.losses.binary_crossentropy,\n",
    "                 optimizer=keras.optimizers.Adam(),\n",
    "                 metrics=['accuracy'])"
   ]
  },
  {
   "cell_type": "code",
   "execution_count": 113,
   "id": "a03ccdbf",
   "metadata": {
    "scrolled": false
   },
   "outputs": [
    {
     "name": "stdout",
     "output_type": "stream",
     "text": [
      "Epoch 1/100\n",
      "WARNING:tensorflow:Model was constructed with shape (None, None, 216) for input KerasTensor(type_spec=TensorSpec(shape=(None, None, 216), dtype=tf.float32, name='input_8'), name='input_8', description=\"created by layer 'input_8'\"), but it was called on an input with incompatible shape (None, 216).\n",
      "WARNING:tensorflow:Model was constructed with shape (None, None, 216) for input KerasTensor(type_spec=TensorSpec(shape=(None, None, 216), dtype=tf.float32, name='input_8'), name='input_8', description=\"created by layer 'input_8'\"), but it was called on an input with incompatible shape (None, 216).\n",
      "35/45 [======================>.......] - ETA: 0s - loss: 0.5790 - accuracy: 0.7036WARNING:tensorflow:Model was constructed with shape (None, None, 216) for input KerasTensor(type_spec=TensorSpec(shape=(None, None, 216), dtype=tf.float32, name='input_8'), name='input_8', description=\"created by layer 'input_8'\"), but it was called on an input with incompatible shape (None, 216).\n",
      "45/45 [==============================] - 1s 7ms/step - loss: 0.5678 - accuracy: 0.7116 - val_loss: 0.5811 - val_accuracy: 0.7120\n",
      "Epoch 2/100\n",
      "45/45 [==============================] - 0s 4ms/step - loss: 0.4992 - accuracy: 0.7561 - val_loss: 0.5474 - val_accuracy: 0.7217\n",
      "Epoch 3/100\n",
      "45/45 [==============================] - 0s 4ms/step - loss: 0.4608 - accuracy: 0.7839 - val_loss: 0.5012 - val_accuracy: 0.7476\n",
      "Epoch 4/100\n",
      "45/45 [==============================] - 0s 4ms/step - loss: 0.4264 - accuracy: 0.8061 - val_loss: 0.4953 - val_accuracy: 0.7670\n",
      "Epoch 5/100\n",
      "45/45 [==============================] - 0s 4ms/step - loss: 0.3997 - accuracy: 0.8138 - val_loss: 0.4981 - val_accuracy: 0.7638\n",
      "Epoch 6/100\n",
      "45/45 [==============================] - 0s 4ms/step - loss: 0.3845 - accuracy: 0.8179 - val_loss: 0.5128 - val_accuracy: 0.7638\n",
      "Epoch 7/100\n",
      "45/45 [==============================] - 0s 4ms/step - loss: 0.3625 - accuracy: 0.8311 - val_loss: 0.5126 - val_accuracy: 0.7702\n",
      "Epoch 8/100\n",
      "45/45 [==============================] - 0s 4ms/step - loss: 0.3510 - accuracy: 0.8541 - val_loss: 0.5721 - val_accuracy: 0.7508\n",
      "Epoch 9/100\n",
      "45/45 [==============================] - 0s 4ms/step - loss: 0.3357 - accuracy: 0.8311 - val_loss: 0.5284 - val_accuracy: 0.7670\n",
      "Epoch 10/100\n",
      "45/45 [==============================] - 0s 4ms/step - loss: 0.3320 - accuracy: 0.8506 - val_loss: 0.5854 - val_accuracy: 0.7799\n",
      "Epoch 11/100\n",
      "45/45 [==============================] - 0s 4ms/step - loss: 0.3136 - accuracy: 0.8450 - val_loss: 0.5426 - val_accuracy: 0.7605\n",
      "Epoch 12/100\n",
      "45/45 [==============================] - 0s 4ms/step - loss: 0.3090 - accuracy: 0.8457 - val_loss: 0.5650 - val_accuracy: 0.7864\n",
      "Epoch 13/100\n",
      "45/45 [==============================] - 0s 6ms/step - loss: 0.2903 - accuracy: 0.8541 - val_loss: 0.6648 - val_accuracy: 0.7508\n",
      "Epoch 14/100\n",
      "45/45 [==============================] - 0s 7ms/step - loss: 0.2984 - accuracy: 0.8492 - val_loss: 0.6358 - val_accuracy: 0.7443\n",
      "Epoch 15/100\n",
      "45/45 [==============================] - 0s 6ms/step - loss: 0.2929 - accuracy: 0.8589 - val_loss: 0.5709 - val_accuracy: 0.7702\n",
      "Epoch 16/100\n",
      "45/45 [==============================] - 0s 6ms/step - loss: 0.2706 - accuracy: 0.8555 - val_loss: 0.5953 - val_accuracy: 0.7670\n",
      "Epoch 17/100\n",
      "45/45 [==============================] - 0s 7ms/step - loss: 0.2646 - accuracy: 0.8694 - val_loss: 0.7109 - val_accuracy: 0.7540\n",
      "Epoch 18/100\n",
      "45/45 [==============================] - 0s 6ms/step - loss: 0.2851 - accuracy: 0.8631 - val_loss: 0.6366 - val_accuracy: 0.7799\n",
      "Epoch 19/100\n",
      "45/45 [==============================] - 0s 6ms/step - loss: 0.2661 - accuracy: 0.8638 - val_loss: 0.6533 - val_accuracy: 0.7573\n",
      "Epoch 20/100\n",
      "45/45 [==============================] - 0s 6ms/step - loss: 0.2598 - accuracy: 0.8714 - val_loss: 0.7205 - val_accuracy: 0.7443\n",
      "Epoch 21/100\n",
      "45/45 [==============================] - 0s 6ms/step - loss: 0.2569 - accuracy: 0.8819 - val_loss: 0.5831 - val_accuracy: 0.7702\n",
      "Epoch 22/100\n",
      "45/45 [==============================] - 0s 6ms/step - loss: 0.2438 - accuracy: 0.8798 - val_loss: 0.7102 - val_accuracy: 0.7605\n",
      "Epoch 23/100\n",
      "45/45 [==============================] - 0s 6ms/step - loss: 0.2573 - accuracy: 0.8735 - val_loss: 0.6914 - val_accuracy: 0.7443\n",
      "Epoch 24/100\n",
      "45/45 [==============================] - 0s 6ms/step - loss: 0.2378 - accuracy: 0.8805 - val_loss: 0.6936 - val_accuracy: 0.7573\n",
      "Epoch 25/100\n",
      "45/45 [==============================] - 0s 6ms/step - loss: 0.2351 - accuracy: 0.8860 - val_loss: 0.7780 - val_accuracy: 0.7540\n",
      "Epoch 26/100\n",
      "45/45 [==============================] - 0s 6ms/step - loss: 0.2413 - accuracy: 0.8735 - val_loss: 0.7378 - val_accuracy: 0.7411\n",
      "Epoch 27/100\n",
      "45/45 [==============================] - 0s 5ms/step - loss: 0.2547 - accuracy: 0.8742 - val_loss: 0.7635 - val_accuracy: 0.7540\n",
      "Epoch 28/100\n",
      "45/45 [==============================] - 0s 4ms/step - loss: 0.2264 - accuracy: 0.8909 - val_loss: 0.6849 - val_accuracy: 0.7702\n",
      "Epoch 29/100\n",
      "45/45 [==============================] - 0s 4ms/step - loss: 0.2344 - accuracy: 0.8833 - val_loss: 0.6965 - val_accuracy: 0.7508\n",
      "Epoch 30/100\n",
      "45/45 [==============================] - 0s 4ms/step - loss: 0.2378 - accuracy: 0.8749 - val_loss: 0.8900 - val_accuracy: 0.7379\n",
      "Epoch 31/100\n",
      "45/45 [==============================] - 0s 4ms/step - loss: 0.2245 - accuracy: 0.8930 - val_loss: 0.7895 - val_accuracy: 0.7540\n",
      "Epoch 32/100\n",
      "45/45 [==============================] - 0s 4ms/step - loss: 0.2144 - accuracy: 0.8923 - val_loss: 0.9228 - val_accuracy: 0.7540\n",
      "Epoch 33/100\n",
      "45/45 [==============================] - 0s 4ms/step - loss: 0.2198 - accuracy: 0.8895 - val_loss: 0.8489 - val_accuracy: 0.7443\n",
      "Epoch 34/100\n",
      "45/45 [==============================] - 0s 4ms/step - loss: 0.2155 - accuracy: 0.8965 - val_loss: 0.8351 - val_accuracy: 0.7573\n",
      "Epoch 35/100\n",
      "45/45 [==============================] - 0s 4ms/step - loss: 0.1939 - accuracy: 0.9048 - val_loss: 0.9886 - val_accuracy: 0.7508\n",
      "Epoch 36/100\n",
      "45/45 [==============================] - 0s 4ms/step - loss: 0.2127 - accuracy: 0.8916 - val_loss: 0.8934 - val_accuracy: 0.7411\n",
      "Epoch 37/100\n",
      "45/45 [==============================] - 0s 4ms/step - loss: 0.2046 - accuracy: 0.8958 - val_loss: 0.9738 - val_accuracy: 0.7508\n",
      "Epoch 38/100\n",
      "45/45 [==============================] - 0s 4ms/step - loss: 0.1791 - accuracy: 0.9097 - val_loss: 1.1067 - val_accuracy: 0.7605\n",
      "Epoch 39/100\n",
      "45/45 [==============================] - 0s 6ms/step - loss: 0.1856 - accuracy: 0.9069 - val_loss: 1.1543 - val_accuracy: 0.7443\n",
      "Epoch 40/100\n",
      "45/45 [==============================] - 0s 7ms/step - loss: 0.1910 - accuracy: 0.9020 - val_loss: 1.1296 - val_accuracy: 0.7508\n",
      "Epoch 41/100\n",
      "45/45 [==============================] - 0s 8ms/step - loss: 0.1783 - accuracy: 0.9166 - val_loss: 1.2027 - val_accuracy: 0.7540\n",
      "Epoch 42/100\n",
      "45/45 [==============================] - 0s 8ms/step - loss: 0.1931 - accuracy: 0.9097 - val_loss: 1.0516 - val_accuracy: 0.7443\n",
      "Epoch 43/100\n",
      "45/45 [==============================] - 0s 10ms/step - loss: 0.1720 - accuracy: 0.9069 - val_loss: 1.1560 - val_accuracy: 0.7443\n",
      "Epoch 44/100\n",
      "45/45 [==============================] - 0s 11ms/step - loss: 0.1726 - accuracy: 0.9159 - val_loss: 1.1515 - val_accuracy: 0.7314\n",
      "Epoch 45/100\n",
      "45/45 [==============================] - 0s 9ms/step - loss: 0.1734 - accuracy: 0.9194 - val_loss: 1.1716 - val_accuracy: 0.7540\n",
      "Epoch 46/100\n",
      "45/45 [==============================] - 0s 7ms/step - loss: 0.1847 - accuracy: 0.9090 - val_loss: 1.1791 - val_accuracy: 0.7314\n",
      "Epoch 47/100\n",
      "45/45 [==============================] - 0s 8ms/step - loss: 0.1790 - accuracy: 0.9131 - val_loss: 1.2140 - val_accuracy: 0.7638\n",
      "Epoch 48/100\n",
      "45/45 [==============================] - 0s 11ms/step - loss: 0.1788 - accuracy: 0.9201 - val_loss: 1.0326 - val_accuracy: 0.7443\n",
      "Epoch 49/100\n",
      "45/45 [==============================] - 0s 8ms/step - loss: 0.1863 - accuracy: 0.9097 - val_loss: 0.8722 - val_accuracy: 0.7249\n",
      "Epoch 50/100\n",
      "45/45 [==============================] - 0s 7ms/step - loss: 0.1847 - accuracy: 0.9090 - val_loss: 1.0254 - val_accuracy: 0.7282\n",
      "Epoch 51/100\n",
      "45/45 [==============================] - 0s 5ms/step - loss: 0.1653 - accuracy: 0.9222 - val_loss: 1.2027 - val_accuracy: 0.7346\n"
     ]
    },
    {
     "name": "stdout",
     "output_type": "stream",
     "text": [
      "Epoch 52/100\n",
      "45/45 [==============================] - 0s 5ms/step - loss: 0.1495 - accuracy: 0.9249 - val_loss: 1.1896 - val_accuracy: 0.7411\n",
      "Epoch 53/100\n",
      "45/45 [==============================] - 0s 5ms/step - loss: 0.1441 - accuracy: 0.9291 - val_loss: 1.3074 - val_accuracy: 0.7476\n",
      "Epoch 54/100\n",
      "45/45 [==============================] - 0s 6ms/step - loss: 0.1518 - accuracy: 0.9319 - val_loss: 1.1342 - val_accuracy: 0.7443\n",
      "Epoch 55/100\n",
      "45/45 [==============================] - 0s 6ms/step - loss: 0.1555 - accuracy: 0.9208 - val_loss: 1.3047 - val_accuracy: 0.7282\n",
      "Epoch 56/100\n",
      "45/45 [==============================] - 0s 6ms/step - loss: 0.1344 - accuracy: 0.9423 - val_loss: 1.2957 - val_accuracy: 0.7411\n",
      "Epoch 57/100\n",
      "45/45 [==============================] - 0s 6ms/step - loss: 0.1568 - accuracy: 0.9249 - val_loss: 1.1287 - val_accuracy: 0.7314\n",
      "Epoch 58/100\n",
      "45/45 [==============================] - 0s 5ms/step - loss: 0.1366 - accuracy: 0.9333 - val_loss: 1.4546 - val_accuracy: 0.7476\n",
      "Epoch 59/100\n",
      "45/45 [==============================] - 0s 5ms/step - loss: 0.1456 - accuracy: 0.9270 - val_loss: 1.3698 - val_accuracy: 0.7379\n",
      "Epoch 60/100\n",
      "45/45 [==============================] - 0s 6ms/step - loss: 0.1491 - accuracy: 0.9319 - val_loss: 1.3293 - val_accuracy: 0.7540\n",
      "Epoch 61/100\n",
      "45/45 [==============================] - 0s 5ms/step - loss: 0.1266 - accuracy: 0.9430 - val_loss: 1.5576 - val_accuracy: 0.7217\n",
      "Epoch 62/100\n",
      "45/45 [==============================] - 0s 6ms/step - loss: 0.1478 - accuracy: 0.9284 - val_loss: 1.5029 - val_accuracy: 0.7249\n",
      "Epoch 63/100\n",
      "45/45 [==============================] - 0s 6ms/step - loss: 0.1354 - accuracy: 0.9395 - val_loss: 1.2993 - val_accuracy: 0.7282\n",
      "Epoch 64/100\n",
      "45/45 [==============================] - 0s 5ms/step - loss: 0.1323 - accuracy: 0.9361 - val_loss: 1.6798 - val_accuracy: 0.7249\n",
      "Epoch 65/100\n",
      "45/45 [==============================] - 0s 5ms/step - loss: 0.1385 - accuracy: 0.9305 - val_loss: 1.2776 - val_accuracy: 0.7346\n",
      "Epoch 66/100\n",
      "45/45 [==============================] - 0s 6ms/step - loss: 0.1449 - accuracy: 0.9256 - val_loss: 1.3620 - val_accuracy: 0.7476\n",
      "Epoch 67/100\n",
      "45/45 [==============================] - 0s 6ms/step - loss: 0.1182 - accuracy: 0.9409 - val_loss: 1.7230 - val_accuracy: 0.7217\n",
      "Epoch 68/100\n",
      "45/45 [==============================] - 0s 5ms/step - loss: 0.1136 - accuracy: 0.9500 - val_loss: 1.5801 - val_accuracy: 0.7314\n",
      "Epoch 69/100\n",
      "45/45 [==============================] - 0s 5ms/step - loss: 0.1281 - accuracy: 0.9368 - val_loss: 1.8304 - val_accuracy: 0.7508\n",
      "Epoch 70/100\n",
      "45/45 [==============================] - 0s 5ms/step - loss: 0.1692 - accuracy: 0.9201 - val_loss: 1.4562 - val_accuracy: 0.7411\n",
      "Epoch 71/100\n",
      "45/45 [==============================] - 0s 5ms/step - loss: 0.1404 - accuracy: 0.9319 - val_loss: 1.4522 - val_accuracy: 0.7346\n",
      "Epoch 72/100\n",
      "45/45 [==============================] - 0s 5ms/step - loss: 0.1098 - accuracy: 0.9514 - val_loss: 1.6326 - val_accuracy: 0.7411\n",
      "Epoch 73/100\n",
      "45/45 [==============================] - 0s 5ms/step - loss: 0.1274 - accuracy: 0.9388 - val_loss: 1.3956 - val_accuracy: 0.7152\n",
      "Epoch 74/100\n",
      "45/45 [==============================] - 0s 5ms/step - loss: 0.1492 - accuracy: 0.9437 - val_loss: 1.3065 - val_accuracy: 0.7346\n",
      "Epoch 75/100\n",
      "45/45 [==============================] - 0s 6ms/step - loss: 0.1143 - accuracy: 0.9437 - val_loss: 1.4888 - val_accuracy: 0.7476\n",
      "Epoch 76/100\n",
      "45/45 [==============================] - 0s 6ms/step - loss: 0.1080 - accuracy: 0.9465 - val_loss: 1.3648 - val_accuracy: 0.7379\n",
      "Epoch 77/100\n",
      "45/45 [==============================] - 0s 6ms/step - loss: 0.0985 - accuracy: 0.9493 - val_loss: 1.7955 - val_accuracy: 0.7217\n",
      "Epoch 78/100\n",
      "45/45 [==============================] - 0s 6ms/step - loss: 0.1139 - accuracy: 0.9388 - val_loss: 1.6577 - val_accuracy: 0.7152\n",
      "Epoch 79/100\n",
      "45/45 [==============================] - 0s 5ms/step - loss: 0.1079 - accuracy: 0.9465 - val_loss: 1.7804 - val_accuracy: 0.7314\n",
      "Epoch 80/100\n",
      "45/45 [==============================] - 0s 5ms/step - loss: 0.0981 - accuracy: 0.9562 - val_loss: 1.6630 - val_accuracy: 0.7282\n",
      "Epoch 81/100\n",
      "45/45 [==============================] - 0s 5ms/step - loss: 0.1014 - accuracy: 0.9493 - val_loss: 1.6367 - val_accuracy: 0.7184\n",
      "Epoch 82/100\n",
      "45/45 [==============================] - 0s 6ms/step - loss: 0.1124 - accuracy: 0.9472 - val_loss: 1.9867 - val_accuracy: 0.7282\n",
      "Epoch 83/100\n",
      "45/45 [==============================] - 0s 6ms/step - loss: 0.1042 - accuracy: 0.9521 - val_loss: 1.8846 - val_accuracy: 0.7217\n",
      "Epoch 84/100\n",
      "45/45 [==============================] - 0s 6ms/step - loss: 0.1038 - accuracy: 0.9493 - val_loss: 1.9806 - val_accuracy: 0.7120\n",
      "Epoch 85/100\n",
      "45/45 [==============================] - 0s 6ms/step - loss: 0.1006 - accuracy: 0.9527 - val_loss: 2.1514 - val_accuracy: 0.7152\n",
      "Epoch 86/100\n",
      "45/45 [==============================] - 0s 5ms/step - loss: 0.1228 - accuracy: 0.9423 - val_loss: 2.0327 - val_accuracy: 0.7087\n",
      "Epoch 87/100\n",
      "45/45 [==============================] - 0s 5ms/step - loss: 0.1097 - accuracy: 0.9437 - val_loss: 1.9872 - val_accuracy: 0.7087\n",
      "Epoch 88/100\n",
      "45/45 [==============================] - 0s 6ms/step - loss: 0.1148 - accuracy: 0.9479 - val_loss: 1.6344 - val_accuracy: 0.7217\n",
      "Epoch 89/100\n",
      "45/45 [==============================] - 0s 10ms/step - loss: 0.0855 - accuracy: 0.9611 - val_loss: 1.8116 - val_accuracy: 0.7379\n",
      "Epoch 90/100\n",
      "45/45 [==============================] - 0s 9ms/step - loss: 0.0954 - accuracy: 0.9555 - val_loss: 1.8433 - val_accuracy: 0.7314\n",
      "Epoch 91/100\n",
      "45/45 [==============================] - 0s 8ms/step - loss: 0.0982 - accuracy: 0.9521 - val_loss: 1.8812 - val_accuracy: 0.7120\n",
      "Epoch 92/100\n",
      "45/45 [==============================] - 0s 9ms/step - loss: 0.0842 - accuracy: 0.9653 - val_loss: 2.0627 - val_accuracy: 0.7087\n",
      "Epoch 93/100\n",
      "45/45 [==============================] - 0s 8ms/step - loss: 0.0985 - accuracy: 0.9618 - val_loss: 2.0271 - val_accuracy: 0.7087\n",
      "Epoch 94/100\n",
      "45/45 [==============================] - 0s 9ms/step - loss: 0.1064 - accuracy: 0.9541 - val_loss: 1.7975 - val_accuracy: 0.7249\n",
      "Epoch 95/100\n",
      "45/45 [==============================] - 0s 9ms/step - loss: 0.0972 - accuracy: 0.9534 - val_loss: 1.8379 - val_accuracy: 0.7282\n",
      "Epoch 96/100\n",
      "45/45 [==============================] - 0s 10ms/step - loss: 0.1306 - accuracy: 0.9500 - val_loss: 1.6420 - val_accuracy: 0.7120\n",
      "Epoch 97/100\n",
      "45/45 [==============================] - 0s 7ms/step - loss: 0.0977 - accuracy: 0.9590 - val_loss: 1.6926 - val_accuracy: 0.7217\n",
      "Epoch 98/100\n",
      "45/45 [==============================] - 0s 6ms/step - loss: 0.0760 - accuracy: 0.9639 - val_loss: 1.7825 - val_accuracy: 0.7120\n",
      "Epoch 99/100\n",
      "45/45 [==============================] - 0s 8ms/step - loss: 0.0710 - accuracy: 0.9701 - val_loss: 1.8574 - val_accuracy: 0.7120\n",
      "Epoch 100/100\n",
      "45/45 [==============================] - 0s 6ms/step - loss: 0.0940 - accuracy: 0.9625 - val_loss: 1.7053 - val_accuracy: 0.7282\n"
     ]
    }
   ],
   "source": [
    "history = tf_model.fit(X_train, \n",
    "                       y_train, \n",
    "                       epochs=100,\n",
    "                       validation_data=(X_valid, y_valid))"
   ]
  },
  {
   "cell_type": "code",
   "execution_count": 114,
   "id": "f5dd179b",
   "metadata": {},
   "outputs": [
    {
     "name": "stdout",
     "output_type": "stream",
     "text": [
      "10/10 [==============================] - 0s 3ms/step - loss: 1.8997 - accuracy: 0.7605\n"
     ]
    },
    {
     "data": {
      "text/plain": [
       "[1.8996837139129639, 0.7605177760124207]"
      ]
     },
     "execution_count": 114,
     "metadata": {},
     "output_type": "execute_result"
    }
   ],
   "source": [
    "tf_model.evaluate(X_test, y_test)"
   ]
  },
  {
   "cell_type": "code",
   "execution_count": 115,
   "id": "9b5b1e4a",
   "metadata": {},
   "outputs": [
    {
     "data": {
      "text/plain": [
       "['loss', 'accuracy']"
      ]
     },
     "execution_count": 115,
     "metadata": {},
     "output_type": "execute_result"
    }
   ],
   "source": [
    "tf_model.metrics_names"
   ]
  },
  {
   "cell_type": "markdown",
   "id": "4a45b015",
   "metadata": {},
   "source": [
    "## Tabnet"
   ]
  },
  {
   "cell_type": "code",
   "execution_count": 118,
   "id": "1fadd7b2",
   "metadata": {},
   "outputs": [],
   "source": [
    "import pytorch_tabnet\n",
    "from pytorch_tabnet.tab_model import TabNetClassifier\n",
    "import torch\n",
    "\n",
    "from sklearn.preprocessing import LabelEncoder\n",
    "from sklearn.metrics import roc_auc_score, accuracy_score"
   ]
  },
  {
   "cell_type": "code",
   "execution_count": 120,
   "id": "491f0e82",
   "metadata": {
    "scrolled": true
   },
   "outputs": [
    {
     "name": "stdout",
     "output_type": "stream",
     "text": [
      "epoch 0  | loss: 0.75759 | train_auc: 0.61525 | train_accuracy: 0.3016  | valid_auc: 0.58125 | valid_accuracy: 0.31068 |  0:00:00s\n",
      "epoch 1  | loss: 0.69465 | train_auc: 0.6491  | train_accuracy: 0.2877  | valid_auc: 0.58963 | valid_accuracy: 0.30421 |  0:00:00s\n",
      "epoch 2  | loss: 0.69596 | train_auc: 0.66807 | train_accuracy: 0.2877  | valid_auc: 0.61794 | valid_accuracy: 0.30421 |  0:00:01s\n",
      "epoch 3  | loss: 0.69084 | train_auc: 0.67728 | train_accuracy: 0.2877  | valid_auc: 0.64584 | valid_accuracy: 0.30421 |  0:00:01s\n",
      "epoch 4  | loss: 0.69082 | train_auc: 0.67856 | train_accuracy: 0.29117 | valid_auc: 0.64839 | valid_accuracy: 0.30421 |  0:00:02s\n",
      "epoch 5  | loss: 0.67988 | train_auc: 0.65752 | train_accuracy: 0.29117 | valid_auc: 0.62303 | valid_accuracy: 0.30421 |  0:00:02s\n",
      "epoch 6  | loss: 0.67405 | train_auc: 0.65432 | train_accuracy: 0.33495 | valid_auc: 0.60426 | valid_accuracy: 0.32362 |  0:00:03s\n",
      "epoch 7  | loss: 0.68227 | train_auc: 0.65777 | train_accuracy: 0.33565 | valid_auc: 0.59485 | valid_accuracy: 0.32362 |  0:00:04s\n",
      "epoch 8  | loss: 0.66945 | train_auc: 0.68483 | train_accuracy: 0.35441 | valid_auc: 0.58323 | valid_accuracy: 0.3301  |  0:00:04s\n",
      "epoch 9  | loss: 0.6581  | train_auc: 0.69014 | train_accuracy: 0.3419  | valid_auc: 0.59852 | valid_accuracy: 0.3301  |  0:00:05s\n",
      "epoch 10 | loss: 0.65322 | train_auc: 0.67325 | train_accuracy: 0.33565 | valid_auc: 0.59743 | valid_accuracy: 0.32362 |  0:00:05s\n",
      "epoch 11 | loss: 0.6531  | train_auc: 0.63592 | train_accuracy: 0.38916 | valid_auc: 0.59594 | valid_accuracy: 0.38511 |  0:00:06s\n",
      "epoch 12 | loss: 0.6428  | train_auc: 0.63077 | train_accuracy: 0.39055 | valid_auc: 0.59792 | valid_accuracy: 0.36893 |  0:00:06s\n",
      "epoch 13 | loss: 0.63376 | train_auc: 0.64216 | train_accuracy: 0.35372 | valid_auc: 0.60371 | valid_accuracy: 0.34304 |  0:00:07s\n",
      "epoch 14 | loss: 0.63579 | train_auc: 0.63901 | train_accuracy: 0.39124 | valid_auc: 0.60594 | valid_accuracy: 0.36893 |  0:00:07s\n",
      "epoch 15 | loss: 0.61399 | train_auc: 0.63943 | train_accuracy: 0.50243 | valid_auc: 0.6046  | valid_accuracy: 0.50809 |  0:00:08s\n",
      "epoch 16 | loss: 0.60667 | train_auc: 0.67198 | train_accuracy: 0.52328 | valid_auc: 0.6195  | valid_accuracy: 0.51133 |  0:00:09s\n",
      "epoch 17 | loss: 0.59728 | train_auc: 0.70704 | train_accuracy: 0.59347 | valid_auc: 0.63686 | valid_accuracy: 0.52751 |  0:00:09s\n",
      "epoch 18 | loss: 0.58919 | train_auc: 0.70409 | train_accuracy: 0.51564 | valid_auc: 0.62771 | valid_accuracy: 0.4822  |  0:00:10s\n",
      "epoch 19 | loss: 0.57715 | train_auc: 0.69203 | train_accuracy: 0.59208 | valid_auc: 0.6283  | valid_accuracy: 0.54693 |  0:00:11s\n",
      "epoch 20 | loss: 0.55658 | train_auc: 0.69489 | train_accuracy: 0.61779 | valid_auc: 0.63355 | valid_accuracy: 0.56958 |  0:00:12s\n",
      "epoch 21 | loss: 0.55035 | train_auc: 0.70419 | train_accuracy: 0.61779 | valid_auc: 0.64295 | valid_accuracy: 0.56634 |  0:00:12s\n",
      "epoch 22 | loss: 0.53689 | train_auc: 0.71836 | train_accuracy: 0.59694 | valid_auc: 0.65844 | valid_accuracy: 0.56311 |  0:00:13s\n",
      "epoch 23 | loss: 0.52812 | train_auc: 0.7249  | train_accuracy: 0.55038 | valid_auc: 0.66462 | valid_accuracy: 0.53074 |  0:00:13s\n",
      "epoch 24 | loss: 0.51869 | train_auc: 0.74835 | train_accuracy: 0.62335 | valid_auc: 0.67872 | valid_accuracy: 0.57929 |  0:00:14s\n",
      "epoch 25 | loss: 0.50346 | train_auc: 0.76062 | train_accuracy: 0.69284 | valid_auc: 0.69347 | valid_accuracy: 0.64078 |  0:00:14s\n",
      "epoch 26 | loss: 0.50257 | train_auc: 0.7402  | train_accuracy: 0.62821 | valid_auc: 0.69552 | valid_accuracy: 0.58252 |  0:00:15s\n",
      "epoch 27 | loss: 0.48909 | train_auc: 0.72753 | train_accuracy: 0.59764 | valid_auc: 0.67318 | valid_accuracy: 0.54693 |  0:00:16s\n",
      "epoch 28 | loss: 0.50296 | train_auc: 0.75023 | train_accuracy: 0.65532 | valid_auc: 0.68619 | valid_accuracy: 0.61165 |  0:00:17s\n",
      "epoch 29 | loss: 0.48197 | train_auc: 0.76234 | train_accuracy: 0.68381 | valid_auc: 0.69955 | valid_accuracy: 0.64078 |  0:00:18s\n",
      "epoch 30 | loss: 0.49867 | train_auc: 0.74828 | train_accuracy: 0.64281 | valid_auc: 0.68347 | valid_accuracy: 0.589   |  0:00:18s\n",
      "epoch 31 | loss: 0.45945 | train_auc: 0.7598  | train_accuracy: 0.66782 | valid_auc: 0.68822 | valid_accuracy: 0.59547 |  0:00:18s\n",
      "epoch 32 | loss: 0.46865 | train_auc: 0.78496 | train_accuracy: 0.713   | valid_auc: 0.71583 | valid_accuracy: 0.68608 |  0:00:19s\n",
      "epoch 33 | loss: 0.45924 | train_auc: 0.77875 | train_accuracy: 0.69423 | valid_auc: 0.71544 | valid_accuracy: 0.65049 |  0:00:20s\n",
      "epoch 34 | loss: 0.46733 | train_auc: 0.77003 | train_accuracy: 0.63725 | valid_auc: 0.70633 | valid_accuracy: 0.6246  |  0:00:21s\n",
      "epoch 35 | loss: 0.44346 | train_auc: 0.78998 | train_accuracy: 0.67616 | valid_auc: 0.70386 | valid_accuracy: 0.6343  |  0:00:21s\n",
      "epoch 36 | loss: 0.39997 | train_auc: 0.81285 | train_accuracy: 0.71022 | valid_auc: 0.73023 | valid_accuracy: 0.66019 |  0:00:22s\n",
      "epoch 37 | loss: 0.42768 | train_auc: 0.81666 | train_accuracy: 0.7255  | valid_auc: 0.73825 | valid_accuracy: 0.64725 |  0:00:22s\n",
      "epoch 38 | loss: 0.42907 | train_auc: 0.82998 | train_accuracy: 0.74149 | valid_auc: 0.7426  | valid_accuracy: 0.67638 |  0:00:23s\n",
      "epoch 39 | loss: 0.39102 | train_auc: 0.84146 | train_accuracy: 0.75191 | valid_auc: 0.74508 | valid_accuracy: 0.65696 |  0:00:23s\n",
      "epoch 40 | loss: 0.39116 | train_auc: 0.83519 | train_accuracy: 0.71994 | valid_auc: 0.7385  | valid_accuracy: 0.65049 |  0:00:24s\n",
      "epoch 41 | loss: 0.38228 | train_auc: 0.837   | train_accuracy: 0.71786 | valid_auc: 0.74394 | valid_accuracy: 0.65049 |  0:00:25s\n",
      "epoch 42 | loss: 0.38833 | train_auc: 0.8461  | train_accuracy: 0.7255  | valid_auc: 0.75022 | valid_accuracy: 0.6699  |  0:00:25s\n",
      "epoch 43 | loss: 0.37878 | train_auc: 0.85758 | train_accuracy: 0.76581 | valid_auc: 0.75819 | valid_accuracy: 0.68608 |  0:00:26s\n",
      "epoch 44 | loss: 0.37894 | train_auc: 0.85665 | train_accuracy: 0.77832 | valid_auc: 0.75289 | valid_accuracy: 0.69256 |  0:00:27s\n",
      "epoch 45 | loss: 0.36809 | train_auc: 0.86381 | train_accuracy: 0.75817 | valid_auc: 0.7478  | valid_accuracy: 0.66343 |  0:00:28s\n",
      "epoch 46 | loss: 0.36142 | train_auc: 0.8764  | train_accuracy: 0.754   | valid_auc: 0.74275 | valid_accuracy: 0.65049 |  0:00:28s\n",
      "epoch 47 | loss: 0.35489 | train_auc: 0.87586 | train_accuracy: 0.77623 | valid_auc: 0.7281  | valid_accuracy: 0.66343 |  0:00:28s\n",
      "epoch 48 | loss: 0.38615 | train_auc: 0.85977 | train_accuracy: 0.7811  | valid_auc: 0.7332  | valid_accuracy: 0.67638 |  0:00:29s\n",
      "epoch 49 | loss: 0.38552 | train_auc: 0.88202 | train_accuracy: 0.79291 | valid_auc: 0.74691 | valid_accuracy: 0.71845 |  0:00:30s\n",
      "epoch 50 | loss: 0.39049 | train_auc: 0.89548 | train_accuracy: 0.78666 | valid_auc: 0.75413 | valid_accuracy: 0.67638 |  0:00:31s\n",
      "epoch 51 | loss: 0.34304 | train_auc: 0.89987 | train_accuracy: 0.77971 | valid_auc: 0.74503 | valid_accuracy: 0.6699  |  0:00:31s\n",
      "epoch 52 | loss: 0.34096 | train_auc: 0.90431 | train_accuracy: 0.79569 | valid_auc: 0.74087 | valid_accuracy: 0.68608 |  0:00:32s\n",
      "epoch 53 | loss: 0.34238 | train_auc: 0.90121 | train_accuracy: 0.80751 | valid_auc: 0.73286 | valid_accuracy: 0.68608 |  0:00:33s\n",
      "epoch 54 | loss: 0.33988 | train_auc: 0.88617 | train_accuracy: 0.80195 | valid_auc: 0.72598 | valid_accuracy: 0.67314 |  0:00:33s\n",
      "epoch 55 | loss: 0.34654 | train_auc: 0.89844 | train_accuracy: 0.79639 | valid_auc: 0.74062 | valid_accuracy: 0.69579 |  0:00:34s\n",
      "epoch 56 | loss: 0.33836 | train_auc: 0.9131  | train_accuracy: 0.83044 | valid_auc: 0.74711 | valid_accuracy: 0.69579 |  0:00:34s\n",
      "epoch 57 | loss: 0.31085 | train_auc: 0.90695 | train_accuracy: 0.81515 | valid_auc: 0.75418 | valid_accuracy: 0.69579 |  0:00:35s\n",
      "epoch 58 | loss: 0.31459 | train_auc: 0.90295 | train_accuracy: 0.81098 | valid_auc: 0.75428 | valid_accuracy: 0.72168 |  0:00:35s\n",
      "epoch 59 | loss: 0.31569 | train_auc: 0.91768 | train_accuracy: 0.83113 | valid_auc: 0.75581 | valid_accuracy: 0.70874 |  0:00:36s\n",
      "epoch 60 | loss: 0.29137 | train_auc: 0.92352 | train_accuracy: 0.83739 | valid_auc: 0.75764 | valid_accuracy: 0.69579 |  0:00:37s\n",
      "epoch 61 | loss: 0.29247 | train_auc: 0.9273  | train_accuracy: 0.82627 | valid_auc: 0.75458 | valid_accuracy: 0.6699  |  0:00:38s\n",
      "epoch 62 | loss: 0.28265 | train_auc: 0.92394 | train_accuracy: 0.81584 | valid_auc: 0.75948 | valid_accuracy: 0.68932 |  0:00:39s\n"
     ]
    },
    {
     "name": "stdout",
     "output_type": "stream",
     "text": [
      "epoch 63 | loss: 0.29495 | train_auc: 0.92484 | train_accuracy: 0.81167 | valid_auc: 0.76269 | valid_accuracy: 0.68932 |  0:00:39s\n",
      "epoch 64 | loss: 0.3144  | train_auc: 0.9193  | train_accuracy: 0.82418 | valid_auc: 0.75492 | valid_accuracy: 0.68932 |  0:00:39s\n",
      "epoch 65 | loss: 0.30355 | train_auc: 0.92862 | train_accuracy: 0.83461 | valid_auc: 0.76452 | valid_accuracy: 0.7055  |  0:00:40s\n",
      "epoch 66 | loss: 0.30054 | train_auc: 0.93887 | train_accuracy: 0.85059 | valid_auc: 0.76645 | valid_accuracy: 0.71197 |  0:00:41s\n",
      "epoch 67 | loss: 0.27362 | train_auc: 0.94532 | train_accuracy: 0.86518 | valid_auc: 0.77481 | valid_accuracy: 0.69256 |  0:00:42s\n",
      "epoch 68 | loss: 0.28858 | train_auc: 0.94534 | train_accuracy: 0.86449 | valid_auc: 0.76818 | valid_accuracy: 0.70227 |  0:00:42s\n",
      "epoch 69 | loss: 0.27157 | train_auc: 0.94812 | train_accuracy: 0.86518 | valid_auc: 0.76482 | valid_accuracy: 0.69903 |  0:00:43s\n",
      "epoch 70 | loss: 0.25917 | train_auc: 0.94702 | train_accuracy: 0.8492  | valid_auc: 0.76358 | valid_accuracy: 0.69903 |  0:00:44s\n",
      "epoch 71 | loss: 0.27516 | train_auc: 0.94857 | train_accuracy: 0.86588 | valid_auc: 0.76932 | valid_accuracy: 0.71197 |  0:00:44s\n",
      "epoch 72 | loss: 0.2857  | train_auc: 0.95033 | train_accuracy: 0.87908 | valid_auc: 0.76329 | valid_accuracy: 0.71845 |  0:00:45s\n",
      "epoch 73 | loss: 0.2707  | train_auc: 0.95446 | train_accuracy: 0.877   | valid_auc: 0.7527  | valid_accuracy: 0.70874 |  0:00:46s\n",
      "epoch 74 | loss: 0.24914 | train_auc: 0.9529  | train_accuracy: 0.85754 | valid_auc: 0.75037 | valid_accuracy: 0.67638 |  0:00:46s\n",
      "epoch 75 | loss: 0.24827 | train_auc: 0.95638 | train_accuracy: 0.87005 | valid_auc: 0.76106 | valid_accuracy: 0.70227 |  0:00:47s\n",
      "epoch 76 | loss: 0.22917 | train_auc: 0.96123 | train_accuracy: 0.88534 | valid_auc: 0.77486 | valid_accuracy: 0.72168 |  0:00:48s\n",
      "epoch 77 | loss: 0.27225 | train_auc: 0.96366 | train_accuracy: 0.88673 | valid_auc: 0.77115 | valid_accuracy: 0.71521 |  0:00:49s\n",
      "epoch 78 | loss: 0.23758 | train_auc: 0.96646 | train_accuracy: 0.87908 | valid_auc: 0.75824 | valid_accuracy: 0.7055  |  0:00:50s\n",
      "epoch 79 | loss: 0.2482  | train_auc: 0.96752 | train_accuracy: 0.87978 | valid_auc: 0.7525  | valid_accuracy: 0.7055  |  0:00:50s\n",
      "epoch 80 | loss: 0.22161 | train_auc: 0.96903 | train_accuracy: 0.89437 | valid_auc: 0.76091 | valid_accuracy: 0.72168 |  0:00:51s\n",
      "epoch 81 | loss: 0.22827 | train_auc: 0.97109 | train_accuracy: 0.89507 | valid_auc: 0.77095 | valid_accuracy: 0.71197 |  0:00:51s\n",
      "epoch 82 | loss: 0.22167 | train_auc: 0.97029 | train_accuracy: 0.88186 | valid_auc: 0.7571  | valid_accuracy: 0.7055  |  0:00:51s\n",
      "epoch 83 | loss: 0.21118 | train_auc: 0.9688  | train_accuracy: 0.88047 | valid_auc: 0.75839 | valid_accuracy: 0.7055  |  0:00:52s\n",
      "epoch 84 | loss: 0.23079 | train_auc: 0.97382 | train_accuracy: 0.89229 | valid_auc: 0.75087 | valid_accuracy: 0.69903 |  0:00:53s\n",
      "epoch 85 | loss: 0.21738 | train_auc: 0.97487 | train_accuracy: 0.91105 | valid_auc: 0.75685 | valid_accuracy: 0.71521 |  0:00:54s\n",
      "epoch 86 | loss: 0.2474  | train_auc: 0.97083 | train_accuracy: 0.91452 | valid_auc: 0.76061 | valid_accuracy: 0.71845 |  0:00:54s\n",
      "epoch 87 | loss: 0.24656 | train_auc: 0.97496 | train_accuracy: 0.91035 | valid_auc: 0.75873 | valid_accuracy: 0.71197 |  0:00:55s\n",
      "epoch 88 | loss: 0.19375 | train_auc: 0.97525 | train_accuracy: 0.90688 | valid_auc: 0.76096 | valid_accuracy: 0.70227 |  0:00:56s\n",
      "epoch 89 | loss: 0.2362  | train_auc: 0.97779 | train_accuracy: 0.90202 | valid_auc: 0.76838 | valid_accuracy: 0.71197 |  0:00:57s\n",
      "epoch 90 | loss: 0.23077 | train_auc: 0.97871 | train_accuracy: 0.90202 | valid_auc: 0.77044 | valid_accuracy: 0.72492 |  0:00:57s\n",
      "epoch 91 | loss: 0.21627 | train_auc: 0.98    | train_accuracy: 0.91174 | valid_auc: 0.76804 | valid_accuracy: 0.72492 |  0:00:58s\n",
      "epoch 92 | loss: 0.20133 | train_auc: 0.97604 | train_accuracy: 0.91313 | valid_auc: 0.77105 | valid_accuracy: 0.72816 |  0:00:58s\n",
      "epoch 93 | loss: 0.24938 | train_auc: 0.97522 | train_accuracy: 0.91661 | valid_auc: 0.77956 | valid_accuracy: 0.73139 |  0:00:59s\n",
      "epoch 94 | loss: 0.20566 | train_auc: 0.97701 | train_accuracy: 0.91313 | valid_auc: 0.78644 | valid_accuracy: 0.75081 |  0:01:00s\n",
      "epoch 95 | loss: 0.18694 | train_auc: 0.97525 | train_accuracy: 0.89993 | valid_auc: 0.77778 | valid_accuracy: 0.72816 |  0:01:01s\n",
      "epoch 96 | loss: 0.2248  | train_auc: 0.97382 | train_accuracy: 0.89576 | valid_auc: 0.77187 | valid_accuracy: 0.72168 |  0:01:01s\n",
      "epoch 97 | loss: 0.19505 | train_auc: 0.98175 | train_accuracy: 0.91244 | valid_auc: 0.77378 | valid_accuracy: 0.72492 |  0:01:02s\n",
      "epoch 98 | loss: 0.19632 | train_auc: 0.98195 | train_accuracy: 0.92008 | valid_auc: 0.76383 | valid_accuracy: 0.70874 |  0:01:02s\n",
      "epoch 99 | loss: 0.1963  | train_auc: 0.98257 | train_accuracy: 0.92495 | valid_auc: 0.75891 | valid_accuracy: 0.7055  |  0:01:03s\n",
      "epoch 100| loss: 0.18816 | train_auc: 0.9842  | train_accuracy: 0.93259 | valid_auc: 0.76215 | valid_accuracy: 0.71521 |  0:01:04s\n",
      "epoch 101| loss: 0.21655 | train_auc: 0.98522 | train_accuracy: 0.92912 | valid_auc: 0.76467 | valid_accuracy: 0.72816 |  0:01:05s\n",
      "epoch 102| loss: 0.18621 | train_auc: 0.98532 | train_accuracy: 0.92773 | valid_auc: 0.76517 | valid_accuracy: 0.72816 |  0:01:05s\n",
      "epoch 103| loss: 0.18923 | train_auc: 0.98524 | train_accuracy: 0.92842 | valid_auc: 0.76294 | valid_accuracy: 0.72492 |  0:01:06s\n",
      "epoch 104| loss: 0.19022 | train_auc: 0.98654 | train_accuracy: 0.92912 | valid_auc: 0.76091 | valid_accuracy: 0.72168 |  0:01:07s\n",
      "epoch 105| loss: 0.20423 | train_auc: 0.98598 | train_accuracy: 0.92495 | valid_auc: 0.76017 | valid_accuracy: 0.72492 |  0:01:07s\n",
      "epoch 106| loss: 0.1968  | train_auc: 0.98674 | train_accuracy: 0.92147 | valid_auc: 0.76739 | valid_accuracy: 0.74434 |  0:01:08s\n",
      "epoch 107| loss: 0.2     | train_auc: 0.98539 | train_accuracy: 0.92008 | valid_auc: 0.77135 | valid_accuracy: 0.73463 |  0:01:08s\n",
      "epoch 108| loss: 0.18697 | train_auc: 0.98652 | train_accuracy: 0.92078 | valid_auc: 0.7808  | valid_accuracy: 0.73139 |  0:01:08s\n",
      "epoch 109| loss: 0.19379 | train_auc: 0.98528 | train_accuracy: 0.92286 | valid_auc: 0.78362 | valid_accuracy: 0.74434 |  0:01:09s\n",
      "epoch 110| loss: 0.17779 | train_auc: 0.98727 | train_accuracy: 0.92912 | valid_auc: 0.77279 | valid_accuracy: 0.72492 |  0:01:09s\n",
      "epoch 111| loss: 0.16979 | train_auc: 0.98839 | train_accuracy: 0.93051 | valid_auc: 0.75846 | valid_accuracy: 0.72168 |  0:01:10s\n",
      "epoch 112| loss: 0.16553 | train_auc: 0.98697 | train_accuracy: 0.92425 | valid_auc: 0.75428 | valid_accuracy: 0.70874 |  0:01:11s\n",
      "epoch 113| loss: 0.16802 | train_auc: 0.98775 | train_accuracy: 0.92912 | valid_auc: 0.76494 | valid_accuracy: 0.71521 |  0:01:12s\n",
      "epoch 114| loss: 0.18086 | train_auc: 0.98784 | train_accuracy: 0.92912 | valid_auc: 0.76903 | valid_accuracy: 0.73139 |  0:01:12s\n",
      "epoch 115| loss: 0.15925 | train_auc: 0.98813 | train_accuracy: 0.9319  | valid_auc: 0.76383 | valid_accuracy: 0.73786 |  0:01:13s\n",
      "epoch 116| loss: 0.19161 | train_auc: 0.98813 | train_accuracy: 0.93329 | valid_auc: 0.75636 | valid_accuracy: 0.73786 |  0:01:13s\n",
      "epoch 117| loss: 0.17879 | train_auc: 0.986   | train_accuracy: 0.93259 | valid_auc: 0.75351 | valid_accuracy: 0.73463 |  0:01:14s\n",
      "epoch 118| loss: 0.15694 | train_auc: 0.98709 | train_accuracy: 0.93329 | valid_auc: 0.75537 | valid_accuracy: 0.71845 |  0:01:14s\n",
      "epoch 119| loss: 0.1599  | train_auc: 0.98968 | train_accuracy: 0.92981 | valid_auc: 0.76148 | valid_accuracy: 0.72816 |  0:01:15s\n",
      "epoch 120| loss: 0.17471 | train_auc: 0.98994 | train_accuracy: 0.92078 | valid_auc: 0.76054 | valid_accuracy: 0.71521 |  0:01:16s\n",
      "epoch 121| loss: 0.17644 | train_auc: 0.98966 | train_accuracy: 0.9319  | valid_auc: 0.75905 | valid_accuracy: 0.73786 |  0:01:17s\n",
      "epoch 122| loss: 0.16492 | train_auc: 0.98988 | train_accuracy: 0.93954 | valid_auc: 0.75475 | valid_accuracy: 0.73786 |  0:01:17s\n",
      "epoch 123| loss: 0.15779 | train_auc: 0.99112 | train_accuracy: 0.94093 | valid_auc: 0.74847 | valid_accuracy: 0.73463 |  0:01:18s\n",
      "epoch 124| loss: 0.17309 | train_auc: 0.99194 | train_accuracy: 0.94302 | valid_auc: 0.75012 | valid_accuracy: 0.73786 |  0:01:19s\n",
      "epoch 125| loss: 0.14528 | train_auc: 0.99043 | train_accuracy: 0.93676 | valid_auc: 0.75141 | valid_accuracy: 0.73786 |  0:01:19s\n"
     ]
    },
    {
     "name": "stdout",
     "output_type": "stream",
     "text": [
      "epoch 126| loss: 0.14855 | train_auc: 0.99015 | train_accuracy: 0.93885 | valid_auc: 0.75626 | valid_accuracy: 0.74434 |  0:01:19s\n",
      "epoch 127| loss: 0.15508 | train_auc: 0.99182 | train_accuracy: 0.94163 | valid_auc: 0.76054 | valid_accuracy: 0.73786 |  0:01:20s\n",
      "epoch 128| loss: 0.15236 | train_auc: 0.99143 | train_accuracy: 0.94997 | valid_auc: 0.76336 | valid_accuracy: 0.73139 |  0:01:20s\n",
      "epoch 129| loss: 0.15678 | train_auc: 0.99214 | train_accuracy: 0.94927 | valid_auc: 0.76611 | valid_accuracy: 0.73786 |  0:01:21s\n",
      "epoch 130| loss: 0.12694 | train_auc: 0.99317 | train_accuracy: 0.94302 | valid_auc: 0.75626 | valid_accuracy: 0.73139 |  0:01:22s\n",
      "epoch 131| loss: 0.13871 | train_auc: 0.99322 | train_accuracy: 0.94232 | valid_auc: 0.75908 | valid_accuracy: 0.74434 |  0:01:22s\n",
      "epoch 132| loss: 0.136   | train_auc: 0.99343 | train_accuracy: 0.94441 | valid_auc: 0.75631 | valid_accuracy: 0.74434 |  0:01:23s\n",
      "epoch 133| loss: 0.12586 | train_auc: 0.99299 | train_accuracy: 0.94302 | valid_auc: 0.75059 | valid_accuracy: 0.73786 |  0:01:24s\n",
      "epoch 134| loss: 0.15106 | train_auc: 0.9934  | train_accuracy: 0.94371 | valid_auc: 0.75114 | valid_accuracy: 0.7411  |  0:01:25s\n",
      "epoch 135| loss: 0.13471 | train_auc: 0.99353 | train_accuracy: 0.94719 | valid_auc: 0.752   | valid_accuracy: 0.72816 |  0:01:25s\n",
      "epoch 136| loss: 0.12967 | train_auc: 0.99342 | train_accuracy: 0.94163 | valid_auc: 0.75126 | valid_accuracy: 0.73139 |  0:01:26s\n",
      "epoch 137| loss: 0.13252 | train_auc: 0.99396 | train_accuracy: 0.94441 | valid_auc: 0.75299 | valid_accuracy: 0.72168 |  0:01:26s\n",
      "epoch 138| loss: 0.13518 | train_auc: 0.99436 | train_accuracy: 0.94858 | valid_auc: 0.75648 | valid_accuracy: 0.7411  |  0:01:27s\n",
      "epoch 139| loss: 0.13263 | train_auc: 0.99452 | train_accuracy: 0.94997 | valid_auc: 0.7573  | valid_accuracy: 0.72816 |  0:01:27s\n",
      "epoch 140| loss: 0.17084 | train_auc: 0.99511 | train_accuracy: 0.9451  | valid_auc: 0.75735 | valid_accuracy: 0.71521 |  0:01:28s\n",
      "epoch 141| loss: 0.11446 | train_auc: 0.99462 | train_accuracy: 0.94858 | valid_auc: 0.75616 | valid_accuracy: 0.73139 |  0:01:28s\n",
      "epoch 142| loss: 0.13857 | train_auc: 0.99467 | train_accuracy: 0.95483 | valid_auc: 0.75905 | valid_accuracy: 0.71845 |  0:01:29s\n",
      "epoch 143| loss: 0.13247 | train_auc: 0.99466 | train_accuracy: 0.95552 | valid_auc: 0.76316 | valid_accuracy: 0.73786 |  0:01:30s\n",
      "epoch 144| loss: 0.13793 | train_auc: 0.99421 | train_accuracy: 0.95552 | valid_auc: 0.76032 | valid_accuracy: 0.74434 |  0:01:31s\n",
      "\n",
      "Early stopping occurred at epoch 144 with best_epoch = 94 and best_valid_accuracy = 0.75081\n"
     ]
    }
   ],
   "source": [
    "# define the model\n",
    "clf1_nopreproc = TabNetClassifier(optimizer_fn=torch.optim.Adam,\n",
    "                       optimizer_params=dict(lr=2e-2),\n",
    "                       scheduler_params={\"step_size\":10, # how to use learning rate scheduler\n",
    "                                         \"gamma\":0.9},\n",
    "                       scheduler_fn=torch.optim.lr_scheduler.StepLR,\n",
    "                       mask_type='entmax' # \"sparsemax\"\n",
    "                      )\n",
    "\n",
    "# fit the model \n",
    "clf1_nopreproc.fit(\n",
    "    X_train, y_train,\n",
    "    eval_set=[(X_train, y_train), (X_valid, y_valid)],\n",
    "    eval_name=['train', 'valid'],\n",
    "    eval_metric=['auc','accuracy'],\n",
    "    max_epochs=1000 , patience=50,\n",
    "    batch_size=256, virtual_batch_size=128,\n",
    "    num_workers=0,\n",
    "    weights=1,\n",
    "    drop_last=False\n",
    ")  "
   ]
  },
  {
   "cell_type": "code",
   "execution_count": 123,
   "id": "d7827fce",
   "metadata": {},
   "outputs": [
    {
     "name": "stdout",
     "output_type": "stream",
     "text": [
      "BEST ACCURACY SCORE ON VALIDATION SET : 0.7508090614886731\n",
      "BEST ACCURACY SCORE ON TEST SET : 0.7119741100323624\n"
     ]
    },
    {
     "data": {
      "image/png": "[encoded data removed]",
      "text/plain": [
       "<Figure size 432x288 with 1 Axes>"
      ]
     },
     "metadata": {
      "needs_background": "light"
     },
     "output_type": "display_data"
    }
   ],
   "source": [
    "# plot losses\n",
    "plt.plot(clf1_nopreproc.history['loss'])\n",
    "\n",
    "# plot accuracy\n",
    "plt.plot(clf1_nopreproc.history['train_accuracy'])\n",
    "plt.plot(clf1_nopreproc.history['valid_accuracy'])\n",
    "\n",
    "# find and plot feature importance\n",
    "y_pred = clf1_nopreproc.predict(X_test)\n",
    "clf1_nopreproc.feature_importances_\n",
    "# feat_importances = pd.Series(clf1_nopreproc.feature_importances_, index=final_df2.columns)\n",
    "# feat_importances.nlargest(20).plot(kind='barh')\n",
    "\n",
    "\n",
    "# determine best accuracy for test set\n",
    "preds = clf1_nopreproc.predict(X_test)\n",
    "test_acc = accuracy_score(preds, y_test)\n",
    "\n",
    "# determine best accuracy for validation set\n",
    "preds_valid = clf1_nopreproc.predict(X_valid)\n",
    "valid_acc = accuracy_score(preds_valid, y_valid)\n",
    "\n",
    "print(f\"BEST ACCURACY SCORE ON VALIDATION SET : {valid_acc}\")\n",
    "print(f\"BEST ACCURACY SCORE ON TEST SET : {test_acc}\")"
   ]
  },
  {
   "cell_type": "markdown",
   "id": "97950bf1",
   "metadata": {},
   "source": [
    "### Feature Importance"
   ]
  },
  {
   "cell_type": "code",
   "execution_count": null,
   "id": "86cac8fd",
   "metadata": {},
   "outputs": [],
   "source": [
    "feature_imp_df = pd.DataFrame({'Features': models['RandomForest'].feature_names_in_,\n",
    "                               'Importance': models['RandomForest'].feature_importances_})\n",
    "top_15_features = feature_imp_df.sort_values('Importance')[-15:]\n",
    "top_15_features"
   ]
  },
  {
   "cell_type": "code",
   "execution_count": null,
   "id": "4a40435b",
   "metadata": {},
   "outputs": [],
   "source": [
    "fig = px.bar(top_15_features,\n",
    "             y=top_15_features['Features'],\n",
    "             x=top_15_features['Importance'],\n",
    "             orientation='h',\n",
    "             title='Top 15 Features based on Importance',\n",
    "             color=top_15_features['Importance'])\n",
    "\n",
    "fig.update(layout_coloraxis_showscale=False)\n",
    "fig.show()"
   ]
  },
  {
   "cell_type": "code",
   "execution_count": null,
   "id": "8c6e4cb1",
   "metadata": {},
   "outputs": [],
   "source": []
  }
 ],
 "metadata": {
  "kernelspec": {
   "display_name": "Python 3 (ipykernel)",
   "language": "python",
   "name": "python3"
  },
  "language_info": {
   "codemirror_mode": {
    "name": "ipython",
    "version": 3
   },
   "file_extension": ".py",
   "mimetype": "text/x-python",
   "name": "python",
   "nbconvert_exporter": "python",
   "pygments_lexer": "ipython3",
   "version": "3.8.0"
  }
 },
 "nbformat": 4,
 "nbformat_minor": 5
}
